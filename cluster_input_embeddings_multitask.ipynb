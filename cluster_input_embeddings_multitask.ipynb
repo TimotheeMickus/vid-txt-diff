{
 "cells": [
  {
   "cell_type": "code",
   "execution_count": 1,
   "id": "c4aee6d3",
   "metadata": {},
   "outputs": [],
   "source": [
    "import pandas as pd\n",
    "import numpy as np\n",
    "import plotly.express as px\n",
    "import plotly\n",
    "import matplotlib.pyplot as plt\n",
    "from sklearn.manifold import TSNE\n",
    "from sklearn.decomposition import PCA\n",
    "from sklearn.cluster import KMeans, AffinityPropagation, AgglomerativeClustering\n",
    "from sklearn import metrics\n",
    "from sklearn.metrics.cluster import homogeneity_score\n",
    "from collections import Counter\n",
    "import warnings\n",
    "warnings.filterwarnings('ignore', category=FutureWarning, append=True)"
   ]
  },
  {
   "cell_type": "code",
   "execution_count": 2,
   "id": "3f2a06b4",
   "metadata": {},
   "outputs": [],
   "source": [
    "def visualize_embeddings_tSNE(emb_matrix, word_types):\n",
    "    print(\"Running tSNE on\", emb_matrix.shape, \"-dim data\")\n",
    "    tsne = TSNE(n_components=2, verbose=1, perplexity=30, n_iter=250)\n",
    "    tsne_results = tsne.fit_transform(emb_matrix)\n",
    "    print('t-SNE done!')\n",
    "    df_tsne = {'word_type': word_types}\n",
    "    df_tsne['ax1'] = tsne_results[:, 0]\n",
    "    df_tsne['ax2'] = tsne_results[:, 1]\n",
    "    ### Plot data with Plotly\n",
    "    fig = px.scatter(df_tsne,\n",
    "                     x='ax1',\n",
    "                     y='ax2',\n",
    "                     color='word_type',\n",
    "                     opacity=0.3\n",
    "                     )\n",
    "    fig.update_traces(mode='markers', marker_size=8)\n",
    "    fig.update_layout(coloraxis={\"colorbar\":{\"dtick\":1}})\n",
    "    fig.update_xaxes(visible=False, showticklabels=False)\n",
    "    fig.update_layout(legend=dict(font=dict(size=10)))\n",
    "    fig.show()"
   ]
  },
  {
   "cell_type": "code",
   "execution_count": 3,
   "id": "7e4ac3d9",
   "metadata": {},
   "outputs": [],
   "source": [
    "def visualize_embeddings_PCA(emb_matrix, word_types):\n",
    "    print(\"Running PCA on\", emb_matrix.shape, \"-dim matrix\")\n",
    "    pca = PCA(n_components=2)\n",
    "    pca_result = pca.fit_transform(emb_matrix)\n",
    "    df_pca = {'word_type': word_types}\n",
    "    df_pca['PC1'] = pca_result[:, 0]\n",
    "    df_pca['PC2'] = pca_result[:, 1]\n",
    "    ### Plot data with Plotly\n",
    "    fig = px.scatter(df_pca,\n",
    "                     x='PC1',\n",
    "                     y='PC2',\n",
    "                     color='word_type',\n",
    "                     opacity=0.3\n",
    "                     )\n",
    "    fig.update_traces(mode='markers', marker_size=8)\n",
    "    fig.update_layout(coloraxis={\"colorbar\":{\"dtick\":1}})\n",
    "    fig.update_xaxes(visible=False, showticklabels=False)\n",
    "    fig.show()"
   ]
  },
  {
   "cell_type": "code",
   "execution_count": 4,
   "id": "ebd396c1",
   "metadata": {},
   "outputs": [
    {
     "data": {
      "text/plain": [
       "task\n",
       "P      80000\n",
       "PC     80000\n",
       "PCT    80000\n",
       "PT     80000\n",
       "Name: count, dtype: int64"
      ]
     },
     "execution_count": 4,
     "metadata": {},
     "output_type": "execute_result"
    }
   ],
   "source": [
    "tasks = ['P', 'PC', 'PCT', 'PT']\n",
    "\n",
    "df = pd.read_csv(\"concreteness_norms_input_embs_multitask.csv\")\n",
    "\n",
    "df[\"task\"] = [m.split(\"/\")[0] for m in df.model.tolist()]\n",
    "df[\"task\"].replace(to_replace=\"paraphrase\", value=\"P\", inplace=True)\n",
    "df[\"task\"].replace(to_replace=\"paraphrase-captioning\", value=\"PC\", inplace=True)\n",
    "df[\"task\"].replace(to_replace=\"paraphrase-captioning-translation\", value=\"PCT\", inplace=True)\n",
    "df[\"task\"].replace(to_replace=\"paraphrase-translation\", value=\"PT\", inplace=True)\n",
    "df.task.value_counts()"
   ]
  },
  {
   "cell_type": "code",
   "execution_count": 5,
   "id": "acc175d5",
   "metadata": {
    "scrolled": false
   },
   "outputs": [
    {
     "name": "stdout",
     "output_type": "stream",
     "text": [
      "Task: P\n",
      "mean: 0.7585125\n",
      "std: 0.02939834451557452\n",
      "Task: PC\n",
      "mean: 0.7632125000000001\n",
      "std: 0.03311651681408291\n",
      "Task: PCT\n",
      "mean: 0.7692875000000001\n",
      "std: 0.024969182929239914\n",
      "Task: PT\n",
      "mean: 0.7577999999999999\n",
      "std: 0.021491143077305836\n"
     ]
    }
   ],
   "source": [
    "# KMeans clustering\n",
    "def purity_score(y_true, y_pred):\n",
    "    contingency_matrix = metrics.cluster.contingency_matrix(y_true, y_pred)\n",
    "    return np.sum(np.amax(contingency_matrix, axis=0)) / np.sum(contingency_matrix) \n",
    "\n",
    "def compute_purity(data):\n",
    "    emb_matrix = np.array(data.iloc[:,:512])\n",
    "    true_labels = data.word_type.tolist()\n",
    "    kmeans = KMeans(n_clusters=2).fit(emb_matrix)\n",
    "    y_pred = kmeans.labels_\n",
    "    purity = purity_score(true_labels, y_pred)\n",
    "    # print('purity:', purity)\n",
    "    return purity\n",
    "\n",
    "def compute_purity_balance_data(data, shuffle_data=True):\n",
    "    word_type_counts = data.word_type.value_counts()\n",
    "    abstract = data[data.word_type == 'abstract']\n",
    "    if shuffle_data is True:\n",
    "        concrete = data[data.word_type == 'concrete'].sample(frac=1)\n",
    "        concrete = concrete[:word_type_counts['abstract']]\n",
    "    else:\n",
    "        concrete = data[data.word_type == 'concrete'][:word_type_counts['abstract']]\n",
    "    balanced_data = pd.concat([abstract, concrete])\n",
    "    emb_matrix = np.array(balanced_data.iloc[:,:512])\n",
    "    true_labels = balanced_data.word_type.tolist()\n",
    "    kmeans = KMeans(n_clusters=2).fit(emb_matrix)\n",
    "    y_pred = kmeans.labels_\n",
    "    purity = purity_score(true_labels, y_pred)\n",
    "    # print('purity:', purity)\n",
    "    return purity\n",
    "\n",
    "task_purity = {'task':[], \n",
    "               'purity':[]}\n",
    "for task in tasks:\n",
    "    print('Task:', task.upper())\n",
    "    task_models = df[df.task == task]\n",
    "    model_purity = task_models.groupby(\"model\").apply(lambda x: compute_purity_balance_data(x))\n",
    "    print('mean:', model_purity.mean())\n",
    "    print('std:', model_purity.std())\n",
    "    task_purity['purity'].extend(model_purity.tolist())\n",
    "    task_purity['task'].extend([task]*len(model_purity))"
   ]
  },
  {
   "cell_type": "code",
   "execution_count": 7,
   "id": "5f851143",
   "metadata": {
    "scrolled": true
   },
   "outputs": [
    {
     "data": {
      "text/plain": [
       "<AxesSubplot:xlabel='task', ylabel='purity'>"
      ]
     },
     "execution_count": 7,
     "metadata": {},
     "output_type": "execute_result"
    },
    {
     "data": {
      "image/png": "[encoded data removed]",
      "text/plain": [
       "<Figure size 432x288 with 1 Axes>"
      ]
     },
     "metadata": {
      "needs_background": "light"
     },
     "output_type": "display_data"
    }
   ],
   "source": [
    "import seaborn as sns\n",
    "task_purity = pd.DataFrame.from_dict(task_purity)\n",
    "sns.boxplot(data=task_purity, x=\"task\", y=\"purity\")"
   ]
  },
  {
   "cell_type": "code",
   "execution_count": 8,
   "id": "807c860e",
   "metadata": {},
   "outputs": [
    {
     "name": "stdout",
     "output_type": "stream",
     "text": [
      "P vs PC: KruskalResult(statistic=0.8182632343977035, pvalue=0.3656884450669554)\n",
      "P vs PCT: KruskalResult(statistic=2.7080395765682153, pvalue=0.09984362176608595)\n",
      "P vs PT: KruskalResult(statistic=0.016878758748430887, pvalue=0.8966310837373759)\n",
      "PC vs PT: KruskalResult(statistic=0.5002962897837028, pvalue=0.47936996395858544)\n",
      "PC vs PCT: KruskalResult(statistic=0.5002962897837028, pvalue=0.47936996395858544)\n",
      "PCT vs PT: KruskalResult(statistic=3.2040844079718496, pvalue=0.07345461156244334)\n"
     ]
    }
   ],
   "source": [
    "from scipy.stats import kruskal\n",
    "P_purity = task_purity[task_purity.task == 'P'].purity.to_list()\n",
    "PC_purity = task_purity[task_purity.task == 'PC'].purity.to_list()\n",
    "PCT_purity = task_purity[task_purity.task == 'PCT'].purity.to_list()\n",
    "PT_purity = task_purity[task_purity.task == 'PT'].purity.to_list()\n",
    "print(\"P vs PC:\", kruskal(P_purity, PC_purity))\n",
    "print(\"P vs PCT:\", kruskal(P_purity, PCT_purity))\n",
    "print(\"P vs PT:\", kruskal(P_purity, PT_purity))\n",
    "print(\"PC vs PT:\", kruskal(PC_purity, PCT_purity))\n",
    "print(\"PC vs PCT:\", kruskal(PC_purity, PCT_purity))\n",
    "print(\"PCT vs PT:\", kruskal(PCT_purity, PT_purity))"
   ]
  },
  {
   "cell_type": "code",
   "execution_count": 9,
   "id": "a9e3e310",
   "metadata": {},
   "outputs": [
    {
     "name": "stdout",
     "output_type": "stream",
     "text": [
      "Task: P\n",
      "mean: 0.023654408403729277\n",
      "std: 0.004162342348287263\n",
      "Task: PC\n",
      "mean: 0.024984368857601757\n",
      "std: 0.004065684335508264\n",
      "Task: PCT\n",
      "mean: 0.02706743998147505\n",
      "std: 0.0040861536273823695\n",
      "Task: PT\n",
      "mean: 0.0246020691798487\n",
      "std: 0.004476688666628802\n"
     ]
    }
   ],
   "source": [
    "def compute_silhouette_balance_data(data, shuffle_data=True):\n",
    "    word_type_counts = data.word_type.value_counts()\n",
    "    abstract = data[data.word_type == 'abstract']\n",
    "    if shuffle_data is True:\n",
    "        concrete = data[data.word_type == 'concrete'].sample(word_type_counts['abstract'])\n",
    "    else:\n",
    "        concrete = data[data.word_type == 'concrete'][:word_type_counts['abstract']]\n",
    "    balanced_data = pd.concat([abstract, concrete])\n",
    "    emb_matrix = np.array(balanced_data.iloc[:,:512])\n",
    "    true_labels = balanced_data.word_type.tolist()\n",
    "    return metrics.silhouette_score(emb_matrix, true_labels)\n",
    "\n",
    "task_sil = {'task':[], \n",
    "               'sil':[]}\n",
    "for task in tasks:\n",
    "    print('Task:', task.upper())\n",
    "    task_models = df[df.task == task]\n",
    "    model_sil = task_models.groupby(\"model\").apply(lambda x: compute_silhouette_balance_data(x))\n",
    "    print('mean:', model_sil.mean())\n",
    "    print('std:', model_sil.std())\n",
    "    task_sil['sil'].extend(model_sil.tolist())\n",
    "    task_sil['task'].extend([task]*len(model_sil))"
   ]
  },
  {
   "cell_type": "code",
   "execution_count": 10,
   "id": "b126260b",
   "metadata": {},
   "outputs": [
    {
     "name": "stdout",
     "output_type": "stream",
     "text": [
      "P vs PC: KruskalResult(statistic=2.000833333333361, pvalue=0.15721275333999682)\n",
      "P vs PCT: KruskalResult(statistic=12.74453703703702, pvalue=0.0003570505108266695)\n",
      "P vs PT: KruskalResult(statistic=0.8008333333333724, pvalue=0.3708443333042094)\n",
      "PC vs PCT: KruskalResult(statistic=4.813333333333361, pvalue=0.028240368733300086)\n",
      "PC vs PT: KruskalResult(statistic=0.4408333333333303, pvalue=0.5067205148778597)\n",
      "PCT vs PT: KruskalResult(statistic=7.5737037037037, pvalue=0.005922595857839187)\n"
     ]
    }
   ],
   "source": [
    "from scipy.stats import kruskal\n",
    "task_sil = pd.DataFrame.from_dict(task_sil)\n",
    "P_sil = task_sil[task_sil.task == 'P'].sil.to_list()\n",
    "PC_sil = task_sil[task_sil.task == 'PC'].sil.to_list()\n",
    "PCT_sil = task_sil[task_sil.task == 'PCT'].sil.to_list()\n",
    "PT_sil = task_sil[task_sil.task == 'PT'].sil.to_list()\n",
    "print(\"P vs PC:\", kruskal(P_sil, PC_sil))\n",
    "print(\"P vs PCT:\", kruskal(P_sil, PCT_sil))\n",
    "print(\"P vs PT:\", kruskal(P_sil, PT_sil))\n",
    "print(\"PC vs PCT:\", kruskal(PC_sil, PCT_sil))\n",
    "print(\"PC vs PT:\", kruskal(PC_sil, PT_sil))\n",
    "print(\"PCT vs PT:\", kruskal(PCT_sil, PT_sil))"
   ]
  },
  {
   "cell_type": "code",
   "execution_count": 12,
   "id": "a759b155",
   "metadata": {},
   "outputs": [
    {
     "name": "stdout",
     "output_type": "stream",
     "text": [
      "Task: P\n"
     ]
    },
    {
     "name": "stderr",
     "output_type": "stream",
     "text": [
      "/home/zosa/.local/lib/python3.10/site-packages/sklearn/cluster/_affinity_propagation.py:143: ConvergenceWarning: Affinity propagation did not converge, this model may return degenerate cluster centers and labels.\n",
      "  warnings.warn(\n",
      "/home/zosa/.local/lib/python3.10/site-packages/sklearn/cluster/_affinity_propagation.py:143: ConvergenceWarning: Affinity propagation did not converge, this model may return degenerate cluster centers and labels.\n",
      "  warnings.warn(\n",
      "/home/zosa/.local/lib/python3.10/site-packages/sklearn/cluster/_affinity_propagation.py:143: ConvergenceWarning: Affinity propagation did not converge, this model may return degenerate cluster centers and labels.\n",
      "  warnings.warn(\n",
      "/home/zosa/.local/lib/python3.10/site-packages/sklearn/cluster/_affinity_propagation.py:143: ConvergenceWarning: Affinity propagation did not converge, this model may return degenerate cluster centers and labels.\n",
      "  warnings.warn(\n",
      "/home/zosa/.local/lib/python3.10/site-packages/sklearn/cluster/_affinity_propagation.py:143: ConvergenceWarning: Affinity propagation did not converge, this model may return degenerate cluster centers and labels.\n",
      "  warnings.warn(\n",
      "/home/zosa/.local/lib/python3.10/site-packages/sklearn/cluster/_affinity_propagation.py:143: ConvergenceWarning: Affinity propagation did not converge, this model may return degenerate cluster centers and labels.\n",
      "  warnings.warn(\n"
     ]
    },
    {
     "name": "stdout",
     "output_type": "stream",
     "text": [
      "mean: 0.757625\n",
      "std: 0.017654355894545743\n",
      "Task: PC\n"
     ]
    },
    {
     "name": "stderr",
     "output_type": "stream",
     "text": [
      "/home/zosa/.local/lib/python3.10/site-packages/sklearn/cluster/_affinity_propagation.py:143: ConvergenceWarning: Affinity propagation did not converge, this model may return degenerate cluster centers and labels.\n",
      "  warnings.warn(\n",
      "/home/zosa/.local/lib/python3.10/site-packages/sklearn/cluster/_affinity_propagation.py:143: ConvergenceWarning: Affinity propagation did not converge, this model may return degenerate cluster centers and labels.\n",
      "  warnings.warn(\n",
      "/home/zosa/.local/lib/python3.10/site-packages/sklearn/cluster/_affinity_propagation.py:143: ConvergenceWarning: Affinity propagation did not converge, this model may return degenerate cluster centers and labels.\n",
      "  warnings.warn(\n",
      "/home/zosa/.local/lib/python3.10/site-packages/sklearn/cluster/_affinity_propagation.py:143: ConvergenceWarning: Affinity propagation did not converge, this model may return degenerate cluster centers and labels.\n",
      "  warnings.warn(\n",
      "/home/zosa/.local/lib/python3.10/site-packages/sklearn/cluster/_affinity_propagation.py:143: ConvergenceWarning: Affinity propagation did not converge, this model may return degenerate cluster centers and labels.\n",
      "  warnings.warn(\n",
      "/home/zosa/.local/lib/python3.10/site-packages/sklearn/cluster/_affinity_propagation.py:143: ConvergenceWarning: Affinity propagation did not converge, this model may return degenerate cluster centers and labels.\n",
      "  warnings.warn(\n"
     ]
    },
    {
     "name": "stdout",
     "output_type": "stream",
     "text": [
      "mean: 0.753225\n",
      "std: 0.02216168731426794\n",
      "Task: PCT\n"
     ]
    },
    {
     "name": "stderr",
     "output_type": "stream",
     "text": [
      "/home/zosa/.local/lib/python3.10/site-packages/sklearn/cluster/_affinity_propagation.py:143: ConvergenceWarning: Affinity propagation did not converge, this model may return degenerate cluster centers and labels.\n",
      "  warnings.warn(\n",
      "/home/zosa/.local/lib/python3.10/site-packages/sklearn/cluster/_affinity_propagation.py:143: ConvergenceWarning: Affinity propagation did not converge, this model may return degenerate cluster centers and labels.\n",
      "  warnings.warn(\n",
      "/home/zosa/.local/lib/python3.10/site-packages/sklearn/cluster/_affinity_propagation.py:143: ConvergenceWarning: Affinity propagation did not converge, this model may return degenerate cluster centers and labels.\n",
      "  warnings.warn(\n"
     ]
    },
    {
     "name": "stdout",
     "output_type": "stream",
     "text": [
      "mean: 0.7654249999999999\n",
      "std: 0.016685073169353103\n",
      "Task: PT\n"
     ]
    },
    {
     "name": "stderr",
     "output_type": "stream",
     "text": [
      "/home/zosa/.local/lib/python3.10/site-packages/sklearn/cluster/_affinity_propagation.py:143: ConvergenceWarning: Affinity propagation did not converge, this model may return degenerate cluster centers and labels.\n",
      "  warnings.warn(\n",
      "/home/zosa/.local/lib/python3.10/site-packages/sklearn/cluster/_affinity_propagation.py:143: ConvergenceWarning: Affinity propagation did not converge, this model may return degenerate cluster centers and labels.\n",
      "  warnings.warn(\n"
     ]
    },
    {
     "name": "stdout",
     "output_type": "stream",
     "text": [
      "mean: 0.7540125\n",
      "std: 0.019297431574813662\n"
     ]
    }
   ],
   "source": [
    "# Affinity propagation clustering\n",
    "def compute_purity_balance_data_aff_prop(data, shuffle_data=True):\n",
    "    word_type_counts = data.word_type.value_counts()\n",
    "    abstract = data[data.word_type == 'abstract']\n",
    "    if shuffle_data is True:\n",
    "        concrete = data[data.word_type == 'concrete'].sample(frac=1)\n",
    "        concrete = concrete[:word_type_counts['abstract']]\n",
    "    else:\n",
    "        concrete = data[data.word_type == 'concrete'][:word_type_counts['abstract']]\n",
    "    balanced_data = pd.concat([abstract, concrete])\n",
    "    emb_matrix = np.array(balanced_data.iloc[:,:512])\n",
    "    true_labels = balanced_data.word_type.tolist()\n",
    "    aff_prop = AffinityPropagation().fit(emb_matrix)\n",
    "    y_pred = aff_prop.labels_\n",
    "    purity = purity_score(true_labels, y_pred)\n",
    "    return purity\n",
    "\n",
    "task_purity_aff_prop = {'task':[], \n",
    "                        'purity':[]}\n",
    "for task in tasks:\n",
    "    print('Task:', task.upper())\n",
    "    task_models = df[df.task == task]\n",
    "    model_purity = task_models.groupby(\"model\").apply(lambda x: compute_purity_balance_data_aff_prop(x))\n",
    "    print('mean:', model_purity.mean())\n",
    "    print('std:', model_purity.std())\n",
    "    task_purity_aff_prop['purity'].extend(model_purity.tolist())\n",
    "    task_purity_aff_prop['task'].extend([task]*len(model_purity))"
   ]
  },
  {
   "cell_type": "code",
   "execution_count": 13,
   "id": "538295c8",
   "metadata": {},
   "outputs": [
    {
     "name": "stdout",
     "output_type": "stream",
     "text": [
      "P vs PC: KruskalResult(statistic=0.9265666600204058, pvalue=0.33575666836174367)\n",
      "P vs PCT: KruskalResult(statistic=4.6908537515101045, pvalue=0.030323577086454726)\n",
      "P vs PT: KruskalResult(statistic=0.5708998850736314, pvalue=0.449901547475806)\n",
      "PC vs PCT: KruskalResult(statistic=6.602613222035967, pvalue=0.010182920759237593)\n",
      "PC vs PT: KruskalResult(statistic=0.03705267107546656, pvalue=0.8473578489950951)\n",
      "PCT vs PT: KruskalResult(statistic=6.094160667385786, pvalue=0.013562933579439574)\n"
     ]
    }
   ],
   "source": [
    "from scipy.stats import kruskal\n",
    "task_purity_aff_prop = pd.DataFrame.from_dict(task_purity_aff_prop)\n",
    "P_purity = task_purity_aff_prop[task_purity_aff_prop.task == 'P'].purity.to_list()\n",
    "PC_purity = task_purity_aff_prop[task_purity_aff_prop.task == 'PC'].purity.to_list()\n",
    "PCT_purity = task_purity_aff_prop[task_purity_aff_prop.task == 'PCT'].purity.to_list()\n",
    "PT_purity = task_purity_aff_prop[task_purity_aff_prop.task == 'PT'].purity.to_list()\n",
    "print(\"P vs PC:\", kruskal(P_purity, PC_purity))\n",
    "print(\"P vs PCT:\", kruskal(P_purity, PCT_purity))\n",
    "print(\"P vs PT:\", kruskal(P_purity, PT_purity))\n",
    "print(\"PC vs PCT:\", kruskal(PC_purity, PCT_purity))\n",
    "print(\"PC vs PT:\", kruskal(PC_purity, PT_purity))\n",
    "print(\"PCT vs PT:\", kruskal(PCT_purity, PT_purity))"
   ]
  },
  {
   "cell_type": "code",
   "execution_count": 16,
   "id": "dc2491e4",
   "metadata": {},
   "outputs": [
    {
     "name": "stdout",
     "output_type": "stream",
     "text": [
      "Task: P\n",
      "leaves: 2000\n",
      "leaves: 2000\n",
      "leaves: 2000\n",
      "leaves: 2000\n",
      "leaves: 2000\n"
     ]
    },
    {
     "ename": "KeyboardInterrupt",
     "evalue": "",
     "output_type": "error",
     "traceback": [
      "\u001b[0;31m---------------------------------------------------------------------------\u001b[0m",
      "\u001b[0;31mKeyboardInterrupt\u001b[0m                         Traceback (most recent call last)",
      "\u001b[0;32m/tmp/ipykernel_43580/4193727443.py\u001b[0m in \u001b[0;36m<module>\u001b[0;34m\u001b[0m\n\u001b[1;32m     25\u001b[0m     \u001b[0mprint\u001b[0m\u001b[0;34m(\u001b[0m\u001b[0;34m'Task:'\u001b[0m\u001b[0;34m,\u001b[0m \u001b[0mtask\u001b[0m\u001b[0;34m.\u001b[0m\u001b[0mupper\u001b[0m\u001b[0;34m(\u001b[0m\u001b[0;34m)\u001b[0m\u001b[0;34m)\u001b[0m\u001b[0;34m\u001b[0m\u001b[0;34m\u001b[0m\u001b[0m\n\u001b[1;32m     26\u001b[0m     \u001b[0mtask_models\u001b[0m \u001b[0;34m=\u001b[0m \u001b[0mdf\u001b[0m\u001b[0;34m[\u001b[0m\u001b[0mdf\u001b[0m\u001b[0;34m.\u001b[0m\u001b[0mtask\u001b[0m \u001b[0;34m==\u001b[0m \u001b[0mtask\u001b[0m\u001b[0;34m]\u001b[0m\u001b[0;34m\u001b[0m\u001b[0;34m\u001b[0m\u001b[0m\n\u001b[0;32m---> 27\u001b[0;31m     \u001b[0mmodel_purity\u001b[0m \u001b[0;34m=\u001b[0m \u001b[0mtask_models\u001b[0m\u001b[0;34m.\u001b[0m\u001b[0mgroupby\u001b[0m\u001b[0;34m(\u001b[0m\u001b[0;34m\"model\"\u001b[0m\u001b[0;34m)\u001b[0m\u001b[0;34m.\u001b[0m\u001b[0mapply\u001b[0m\u001b[0;34m(\u001b[0m\u001b[0;32mlambda\u001b[0m \u001b[0mx\u001b[0m\u001b[0;34m:\u001b[0m \u001b[0mcompute_purity_balance_data_agglomerative\u001b[0m\u001b[0;34m(\u001b[0m\u001b[0mx\u001b[0m\u001b[0;34m)\u001b[0m\u001b[0;34m)\u001b[0m\u001b[0;34m\u001b[0m\u001b[0;34m\u001b[0m\u001b[0m\n\u001b[0m\u001b[1;32m     28\u001b[0m     \u001b[0mprint\u001b[0m\u001b[0;34m(\u001b[0m\u001b[0;34m'mean:'\u001b[0m\u001b[0;34m,\u001b[0m \u001b[0mmodel_purity\u001b[0m\u001b[0;34m.\u001b[0m\u001b[0mmean\u001b[0m\u001b[0;34m(\u001b[0m\u001b[0;34m)\u001b[0m\u001b[0;34m)\u001b[0m\u001b[0;34m\u001b[0m\u001b[0;34m\u001b[0m\u001b[0m\n\u001b[1;32m     29\u001b[0m     \u001b[0mprint\u001b[0m\u001b[0;34m(\u001b[0m\u001b[0;34m'std:'\u001b[0m\u001b[0;34m,\u001b[0m \u001b[0mmodel_purity\u001b[0m\u001b[0;34m.\u001b[0m\u001b[0mstd\u001b[0m\u001b[0;34m(\u001b[0m\u001b[0;34m)\u001b[0m\u001b[0;34m)\u001b[0m\u001b[0;34m\u001b[0m\u001b[0;34m\u001b[0m\u001b[0m\n",
      "\u001b[0;32m~/.local/lib/python3.10/site-packages/pandas/core/groupby/groupby.py\u001b[0m in \u001b[0;36mapply\u001b[0;34m(self, func, *args, **kwargs)\u001b[0m\n\u001b[1;32m   1351\u001b[0m         \u001b[0;32mwith\u001b[0m \u001b[0moption_context\u001b[0m\u001b[0;34m(\u001b[0m\u001b[0;34m\"mode.chained_assignment\"\u001b[0m\u001b[0;34m,\u001b[0m \u001b[0;32mNone\u001b[0m\u001b[0;34m)\u001b[0m\u001b[0;34m:\u001b[0m\u001b[0;34m\u001b[0m\u001b[0;34m\u001b[0m\u001b[0m\n\u001b[1;32m   1352\u001b[0m             \u001b[0;32mtry\u001b[0m\u001b[0;34m:\u001b[0m\u001b[0;34m\u001b[0m\u001b[0;34m\u001b[0m\u001b[0m\n\u001b[0;32m-> 1353\u001b[0;31m                 \u001b[0mresult\u001b[0m \u001b[0;34m=\u001b[0m \u001b[0mself\u001b[0m\u001b[0;34m.\u001b[0m\u001b[0m_python_apply_general\u001b[0m\u001b[0;34m(\u001b[0m\u001b[0mf\u001b[0m\u001b[0;34m,\u001b[0m \u001b[0mself\u001b[0m\u001b[0;34m.\u001b[0m\u001b[0m_selected_obj\u001b[0m\u001b[0;34m)\u001b[0m\u001b[0;34m\u001b[0m\u001b[0;34m\u001b[0m\u001b[0m\n\u001b[0m\u001b[1;32m   1354\u001b[0m             \u001b[0;32mexcept\u001b[0m \u001b[0mTypeError\u001b[0m\u001b[0;34m:\u001b[0m\u001b[0;34m\u001b[0m\u001b[0;34m\u001b[0m\u001b[0m\n\u001b[1;32m   1355\u001b[0m                 \u001b[0;31m# gh-20949\u001b[0m\u001b[0;34m\u001b[0m\u001b[0;34m\u001b[0m\u001b[0m\n",
      "\u001b[0;32m~/.local/lib/python3.10/site-packages/pandas/core/groupby/groupby.py\u001b[0m in \u001b[0;36m_python_apply_general\u001b[0;34m(self, f, data, not_indexed_same, is_transform, is_agg)\u001b[0m\n\u001b[1;32m   1400\u001b[0m             \u001b[0mdata\u001b[0m \u001b[0mafter\u001b[0m \u001b[0mapplying\u001b[0m \u001b[0mf\u001b[0m\u001b[0;34m\u001b[0m\u001b[0;34m\u001b[0m\u001b[0m\n\u001b[1;32m   1401\u001b[0m         \"\"\"\n\u001b[0;32m-> 1402\u001b[0;31m         \u001b[0mvalues\u001b[0m\u001b[0;34m,\u001b[0m \u001b[0mmutated\u001b[0m \u001b[0;34m=\u001b[0m \u001b[0mself\u001b[0m\u001b[0;34m.\u001b[0m\u001b[0mgrouper\u001b[0m\u001b[0;34m.\u001b[0m\u001b[0mapply\u001b[0m\u001b[0;34m(\u001b[0m\u001b[0mf\u001b[0m\u001b[0;34m,\u001b[0m \u001b[0mdata\u001b[0m\u001b[0;34m,\u001b[0m \u001b[0mself\u001b[0m\u001b[0;34m.\u001b[0m\u001b[0maxis\u001b[0m\u001b[0;34m)\u001b[0m\u001b[0;34m\u001b[0m\u001b[0;34m\u001b[0m\u001b[0m\n\u001b[0m\u001b[1;32m   1403\u001b[0m         \u001b[0;32mif\u001b[0m \u001b[0mnot_indexed_same\u001b[0m \u001b[0;32mis\u001b[0m \u001b[0;32mNone\u001b[0m\u001b[0;34m:\u001b[0m\u001b[0;34m\u001b[0m\u001b[0;34m\u001b[0m\u001b[0m\n\u001b[1;32m   1404\u001b[0m             \u001b[0mnot_indexed_same\u001b[0m \u001b[0;34m=\u001b[0m \u001b[0mmutated\u001b[0m\u001b[0;34m\u001b[0m\u001b[0;34m\u001b[0m\u001b[0m\n",
      "\u001b[0;32m~/.local/lib/python3.10/site-packages/pandas/core/groupby/ops.py\u001b[0m in \u001b[0;36mapply\u001b[0;34m(self, f, data, axis)\u001b[0m\n\u001b[1;32m    765\u001b[0m             \u001b[0;31m# group might be modified\u001b[0m\u001b[0;34m\u001b[0m\u001b[0;34m\u001b[0m\u001b[0m\n\u001b[1;32m    766\u001b[0m             \u001b[0mgroup_axes\u001b[0m \u001b[0;34m=\u001b[0m \u001b[0mgroup\u001b[0m\u001b[0;34m.\u001b[0m\u001b[0maxes\u001b[0m\u001b[0;34m\u001b[0m\u001b[0;34m\u001b[0m\u001b[0m\n\u001b[0;32m--> 767\u001b[0;31m             \u001b[0mres\u001b[0m \u001b[0;34m=\u001b[0m \u001b[0mf\u001b[0m\u001b[0;34m(\u001b[0m\u001b[0mgroup\u001b[0m\u001b[0;34m)\u001b[0m\u001b[0;34m\u001b[0m\u001b[0;34m\u001b[0m\u001b[0m\n\u001b[0m\u001b[1;32m    768\u001b[0m             \u001b[0;32mif\u001b[0m \u001b[0;32mnot\u001b[0m \u001b[0mmutated\u001b[0m \u001b[0;32mand\u001b[0m \u001b[0;32mnot\u001b[0m \u001b[0m_is_indexed_like\u001b[0m\u001b[0;34m(\u001b[0m\u001b[0mres\u001b[0m\u001b[0;34m,\u001b[0m \u001b[0mgroup_axes\u001b[0m\u001b[0;34m,\u001b[0m \u001b[0maxis\u001b[0m\u001b[0;34m)\u001b[0m\u001b[0;34m:\u001b[0m\u001b[0;34m\u001b[0m\u001b[0;34m\u001b[0m\u001b[0m\n\u001b[1;32m    769\u001b[0m                 \u001b[0mmutated\u001b[0m \u001b[0;34m=\u001b[0m \u001b[0;32mTrue\u001b[0m\u001b[0;34m\u001b[0m\u001b[0;34m\u001b[0m\u001b[0m\n",
      "\u001b[0;32m/tmp/ipykernel_43580/4193727443.py\u001b[0m in \u001b[0;36m<lambda>\u001b[0;34m(x)\u001b[0m\n\u001b[1;32m     25\u001b[0m     \u001b[0mprint\u001b[0m\u001b[0;34m(\u001b[0m\u001b[0;34m'Task:'\u001b[0m\u001b[0;34m,\u001b[0m \u001b[0mtask\u001b[0m\u001b[0;34m.\u001b[0m\u001b[0mupper\u001b[0m\u001b[0;34m(\u001b[0m\u001b[0;34m)\u001b[0m\u001b[0;34m)\u001b[0m\u001b[0;34m\u001b[0m\u001b[0;34m\u001b[0m\u001b[0m\n\u001b[1;32m     26\u001b[0m     \u001b[0mtask_models\u001b[0m \u001b[0;34m=\u001b[0m \u001b[0mdf\u001b[0m\u001b[0;34m[\u001b[0m\u001b[0mdf\u001b[0m\u001b[0;34m.\u001b[0m\u001b[0mtask\u001b[0m \u001b[0;34m==\u001b[0m \u001b[0mtask\u001b[0m\u001b[0;34m]\u001b[0m\u001b[0;34m\u001b[0m\u001b[0;34m\u001b[0m\u001b[0m\n\u001b[0;32m---> 27\u001b[0;31m     \u001b[0mmodel_purity\u001b[0m \u001b[0;34m=\u001b[0m \u001b[0mtask_models\u001b[0m\u001b[0;34m.\u001b[0m\u001b[0mgroupby\u001b[0m\u001b[0;34m(\u001b[0m\u001b[0;34m\"model\"\u001b[0m\u001b[0;34m)\u001b[0m\u001b[0;34m.\u001b[0m\u001b[0mapply\u001b[0m\u001b[0;34m(\u001b[0m\u001b[0;32mlambda\u001b[0m \u001b[0mx\u001b[0m\u001b[0;34m:\u001b[0m \u001b[0mcompute_purity_balance_data_agglomerative\u001b[0m\u001b[0;34m(\u001b[0m\u001b[0mx\u001b[0m\u001b[0;34m)\u001b[0m\u001b[0;34m)\u001b[0m\u001b[0;34m\u001b[0m\u001b[0;34m\u001b[0m\u001b[0m\n\u001b[0m\u001b[1;32m     28\u001b[0m     \u001b[0mprint\u001b[0m\u001b[0;34m(\u001b[0m\u001b[0;34m'mean:'\u001b[0m\u001b[0;34m,\u001b[0m \u001b[0mmodel_purity\u001b[0m\u001b[0;34m.\u001b[0m\u001b[0mmean\u001b[0m\u001b[0;34m(\u001b[0m\u001b[0;34m)\u001b[0m\u001b[0;34m)\u001b[0m\u001b[0;34m\u001b[0m\u001b[0;34m\u001b[0m\u001b[0m\n\u001b[1;32m     29\u001b[0m     \u001b[0mprint\u001b[0m\u001b[0;34m(\u001b[0m\u001b[0;34m'std:'\u001b[0m\u001b[0;34m,\u001b[0m \u001b[0mmodel_purity\u001b[0m\u001b[0;34m.\u001b[0m\u001b[0mstd\u001b[0m\u001b[0;34m(\u001b[0m\u001b[0;34m)\u001b[0m\u001b[0;34m)\u001b[0m\u001b[0;34m\u001b[0m\u001b[0;34m\u001b[0m\u001b[0m\n",
      "\u001b[0;32m/tmp/ipykernel_43580/4193727443.py\u001b[0m in \u001b[0;36mcompute_purity_balance_data_agglomerative\u001b[0;34m(data, shuffle_data)\u001b[0m\n\u001b[1;32m     14\u001b[0m                                   \u001b[0mmetric\u001b[0m\u001b[0;34m=\u001b[0m\u001b[0;34m'cosine'\u001b[0m\u001b[0;34m,\u001b[0m\u001b[0;34m\u001b[0m\u001b[0;34m\u001b[0m\u001b[0m\n\u001b[1;32m     15\u001b[0m                                   \u001b[0mlinkage\u001b[0m\u001b[0;34m=\u001b[0m\u001b[0;34m'average'\u001b[0m\u001b[0;34m,\u001b[0m\u001b[0;34m\u001b[0m\u001b[0;34m\u001b[0m\u001b[0m\n\u001b[0;32m---> 16\u001b[0;31m                                  distance_threshold=0.5).fit(emb_matrix)\n\u001b[0m\u001b[1;32m     17\u001b[0m     \u001b[0my_pred\u001b[0m \u001b[0;34m=\u001b[0m \u001b[0magg\u001b[0m\u001b[0;34m.\u001b[0m\u001b[0mlabels_\u001b[0m\u001b[0;34m\u001b[0m\u001b[0;34m\u001b[0m\u001b[0m\n\u001b[1;32m     18\u001b[0m     \u001b[0mprint\u001b[0m\u001b[0;34m(\u001b[0m\u001b[0;34m'leaves:'\u001b[0m\u001b[0;34m,\u001b[0m \u001b[0magg\u001b[0m\u001b[0;34m.\u001b[0m\u001b[0mn_leaves_\u001b[0m\u001b[0;34m)\u001b[0m\u001b[0;34m\u001b[0m\u001b[0;34m\u001b[0m\u001b[0m\n",
      "\u001b[0;32m~/.local/lib/python3.10/site-packages/sklearn/cluster/_agglomerative.py\u001b[0m in \u001b[0;36mfit\u001b[0;34m(self, X, y)\u001b[0m\n\u001b[1;32m    954\u001b[0m         \u001b[0mself\u001b[0m\u001b[0;34m.\u001b[0m\u001b[0m_validate_params\u001b[0m\u001b[0;34m(\u001b[0m\u001b[0;34m)\u001b[0m\u001b[0;34m\u001b[0m\u001b[0;34m\u001b[0m\u001b[0m\n\u001b[1;32m    955\u001b[0m         \u001b[0mX\u001b[0m \u001b[0;34m=\u001b[0m \u001b[0mself\u001b[0m\u001b[0;34m.\u001b[0m\u001b[0m_validate_data\u001b[0m\u001b[0;34m(\u001b[0m\u001b[0mX\u001b[0m\u001b[0;34m,\u001b[0m \u001b[0mensure_min_samples\u001b[0m\u001b[0;34m=\u001b[0m\u001b[0;36m2\u001b[0m\u001b[0;34m)\u001b[0m\u001b[0;34m\u001b[0m\u001b[0;34m\u001b[0m\u001b[0m\n\u001b[0;32m--> 956\u001b[0;31m         \u001b[0;32mreturn\u001b[0m \u001b[0mself\u001b[0m\u001b[0;34m.\u001b[0m\u001b[0m_fit\u001b[0m\u001b[0;34m(\u001b[0m\u001b[0mX\u001b[0m\u001b[0;34m)\u001b[0m\u001b[0;34m\u001b[0m\u001b[0;34m\u001b[0m\u001b[0m\n\u001b[0m\u001b[1;32m    957\u001b[0m \u001b[0;34m\u001b[0m\u001b[0m\n\u001b[1;32m    958\u001b[0m     \u001b[0;32mdef\u001b[0m \u001b[0m_fit\u001b[0m\u001b[0;34m(\u001b[0m\u001b[0mself\u001b[0m\u001b[0;34m,\u001b[0m \u001b[0mX\u001b[0m\u001b[0;34m)\u001b[0m\u001b[0;34m:\u001b[0m\u001b[0;34m\u001b[0m\u001b[0;34m\u001b[0m\u001b[0m\n",
      "\u001b[0;32m~/.local/lib/python3.10/site-packages/sklearn/cluster/_agglomerative.py\u001b[0m in \u001b[0;36m_fit\u001b[0;34m(self, X)\u001b[0m\n\u001b[1;32m   1044\u001b[0m         \u001b[0mreturn_distance\u001b[0m \u001b[0;34m=\u001b[0m \u001b[0;34m(\u001b[0m\u001b[0mdistance_threshold\u001b[0m \u001b[0;32mis\u001b[0m \u001b[0;32mnot\u001b[0m \u001b[0;32mNone\u001b[0m\u001b[0;34m)\u001b[0m \u001b[0;32mor\u001b[0m \u001b[0mself\u001b[0m\u001b[0;34m.\u001b[0m\u001b[0mcompute_distances\u001b[0m\u001b[0;34m\u001b[0m\u001b[0;34m\u001b[0m\u001b[0m\n\u001b[1;32m   1045\u001b[0m \u001b[0;34m\u001b[0m\u001b[0m\n\u001b[0;32m-> 1046\u001b[0;31m         out = memory.cache(tree_builder)(\n\u001b[0m\u001b[1;32m   1047\u001b[0m             \u001b[0mX\u001b[0m\u001b[0;34m,\u001b[0m\u001b[0;34m\u001b[0m\u001b[0;34m\u001b[0m\u001b[0m\n\u001b[1;32m   1048\u001b[0m             \u001b[0mconnectivity\u001b[0m\u001b[0;34m=\u001b[0m\u001b[0mconnectivity\u001b[0m\u001b[0;34m,\u001b[0m\u001b[0;34m\u001b[0m\u001b[0;34m\u001b[0m\u001b[0m\n",
      "\u001b[0;32m~/.local/lib/python3.10/site-packages/joblib/memory.py\u001b[0m in \u001b[0;36m__call__\u001b[0;34m(self, *args, **kwargs)\u001b[0m\n\u001b[1;32m    347\u001b[0m \u001b[0;34m\u001b[0m\u001b[0m\n\u001b[1;32m    348\u001b[0m     \u001b[0;32mdef\u001b[0m \u001b[0m__call__\u001b[0m\u001b[0;34m(\u001b[0m\u001b[0mself\u001b[0m\u001b[0;34m,\u001b[0m \u001b[0;34m*\u001b[0m\u001b[0margs\u001b[0m\u001b[0;34m,\u001b[0m \u001b[0;34m**\u001b[0m\u001b[0mkwargs\u001b[0m\u001b[0;34m)\u001b[0m\u001b[0;34m:\u001b[0m\u001b[0;34m\u001b[0m\u001b[0;34m\u001b[0m\u001b[0m\n\u001b[0;32m--> 349\u001b[0;31m         \u001b[0;32mreturn\u001b[0m \u001b[0mself\u001b[0m\u001b[0;34m.\u001b[0m\u001b[0mfunc\u001b[0m\u001b[0;34m(\u001b[0m\u001b[0;34m*\u001b[0m\u001b[0margs\u001b[0m\u001b[0;34m,\u001b[0m \u001b[0;34m**\u001b[0m\u001b[0mkwargs\u001b[0m\u001b[0;34m)\u001b[0m\u001b[0;34m\u001b[0m\u001b[0;34m\u001b[0m\u001b[0m\n\u001b[0m\u001b[1;32m    350\u001b[0m \u001b[0;34m\u001b[0m\u001b[0m\n\u001b[1;32m    351\u001b[0m     \u001b[0;32mdef\u001b[0m \u001b[0mcall_and_shelve\u001b[0m\u001b[0;34m(\u001b[0m\u001b[0mself\u001b[0m\u001b[0;34m,\u001b[0m \u001b[0;34m*\u001b[0m\u001b[0margs\u001b[0m\u001b[0;34m,\u001b[0m \u001b[0;34m**\u001b[0m\u001b[0mkwargs\u001b[0m\u001b[0;34m)\u001b[0m\u001b[0;34m:\u001b[0m\u001b[0;34m\u001b[0m\u001b[0;34m\u001b[0m\u001b[0m\n",
      "\u001b[0;32m~/.local/lib/python3.10/site-packages/sklearn/cluster/_agglomerative.py\u001b[0m in \u001b[0;36m_average_linkage\u001b[0;34m(*args, **kwargs)\u001b[0m\n\u001b[1;32m    668\u001b[0m \u001b[0;32mdef\u001b[0m \u001b[0m_average_linkage\u001b[0m\u001b[0;34m(\u001b[0m\u001b[0;34m*\u001b[0m\u001b[0margs\u001b[0m\u001b[0;34m,\u001b[0m \u001b[0;34m**\u001b[0m\u001b[0mkwargs\u001b[0m\u001b[0;34m)\u001b[0m\u001b[0;34m:\u001b[0m\u001b[0;34m\u001b[0m\u001b[0;34m\u001b[0m\u001b[0m\n\u001b[1;32m    669\u001b[0m     \u001b[0mkwargs\u001b[0m\u001b[0;34m[\u001b[0m\u001b[0;34m\"linkage\"\u001b[0m\u001b[0;34m]\u001b[0m \u001b[0;34m=\u001b[0m \u001b[0;34m\"average\"\u001b[0m\u001b[0;34m\u001b[0m\u001b[0;34m\u001b[0m\u001b[0m\n\u001b[0;32m--> 670\u001b[0;31m     \u001b[0;32mreturn\u001b[0m \u001b[0mlinkage_tree\u001b[0m\u001b[0;34m(\u001b[0m\u001b[0;34m*\u001b[0m\u001b[0margs\u001b[0m\u001b[0;34m,\u001b[0m \u001b[0;34m**\u001b[0m\u001b[0mkwargs\u001b[0m\u001b[0;34m)\u001b[0m\u001b[0;34m\u001b[0m\u001b[0;34m\u001b[0m\u001b[0m\n\u001b[0m\u001b[1;32m    671\u001b[0m \u001b[0;34m\u001b[0m\u001b[0m\n\u001b[1;32m    672\u001b[0m \u001b[0;34m\u001b[0m\u001b[0m\n",
      "\u001b[0;32m~/.local/lib/python3.10/site-packages/sklearn/cluster/_agglomerative.py\u001b[0m in \u001b[0;36mlinkage_tree\u001b[0;34m(X, connectivity, n_clusters, linkage, affinity, return_distance)\u001b[0m\n\u001b[1;32m    542\u001b[0m             \u001b[0mout\u001b[0m \u001b[0;34m=\u001b[0m \u001b[0m_hierarchical\u001b[0m\u001b[0;34m.\u001b[0m\u001b[0msingle_linkage_label\u001b[0m\u001b[0;34m(\u001b[0m\u001b[0mmst\u001b[0m\u001b[0;34m)\u001b[0m\u001b[0;34m\u001b[0m\u001b[0;34m\u001b[0m\u001b[0m\n\u001b[1;32m    543\u001b[0m         \u001b[0;32melse\u001b[0m\u001b[0;34m:\u001b[0m\u001b[0;34m\u001b[0m\u001b[0;34m\u001b[0m\u001b[0m\n\u001b[0;32m--> 544\u001b[0;31m             \u001b[0mout\u001b[0m \u001b[0;34m=\u001b[0m \u001b[0mhierarchy\u001b[0m\u001b[0;34m.\u001b[0m\u001b[0mlinkage\u001b[0m\u001b[0;34m(\u001b[0m\u001b[0mX\u001b[0m\u001b[0;34m,\u001b[0m \u001b[0mmethod\u001b[0m\u001b[0;34m=\u001b[0m\u001b[0mlinkage\u001b[0m\u001b[0;34m,\u001b[0m \u001b[0mmetric\u001b[0m\u001b[0;34m=\u001b[0m\u001b[0maffinity\u001b[0m\u001b[0;34m)\u001b[0m\u001b[0;34m\u001b[0m\u001b[0;34m\u001b[0m\u001b[0m\n\u001b[0m\u001b[1;32m    545\u001b[0m         \u001b[0mchildren_\u001b[0m \u001b[0;34m=\u001b[0m \u001b[0mout\u001b[0m\u001b[0;34m[\u001b[0m\u001b[0;34m:\u001b[0m\u001b[0;34m,\u001b[0m \u001b[0;34m:\u001b[0m\u001b[0;36m2\u001b[0m\u001b[0;34m]\u001b[0m\u001b[0;34m.\u001b[0m\u001b[0mastype\u001b[0m\u001b[0;34m(\u001b[0m\u001b[0mint\u001b[0m\u001b[0;34m,\u001b[0m \u001b[0mcopy\u001b[0m\u001b[0;34m=\u001b[0m\u001b[0;32mFalse\u001b[0m\u001b[0;34m)\u001b[0m\u001b[0;34m\u001b[0m\u001b[0;34m\u001b[0m\u001b[0m\n\u001b[1;32m    546\u001b[0m \u001b[0;34m\u001b[0m\u001b[0m\n",
      "\u001b[0;32m/usr/lib/python3/dist-packages/scipy/cluster/hierarchy.py\u001b[0m in \u001b[0;36mlinkage\u001b[0;34m(y, method, metric, optimal_ordering)\u001b[0m\n\u001b[1;32m   1058\u001b[0m                          \u001b[0;34m'matrix looks suspiciously like an uncondensed '\u001b[0m\u001b[0;34m\u001b[0m\u001b[0;34m\u001b[0m\u001b[0m\n\u001b[1;32m   1059\u001b[0m                          'distance matrix')\n\u001b[0;32m-> 1060\u001b[0;31m         \u001b[0my\u001b[0m \u001b[0;34m=\u001b[0m \u001b[0mdistance\u001b[0m\u001b[0;34m.\u001b[0m\u001b[0mpdist\u001b[0m\u001b[0;34m(\u001b[0m\u001b[0my\u001b[0m\u001b[0;34m,\u001b[0m \u001b[0mmetric\u001b[0m\u001b[0;34m)\u001b[0m\u001b[0;34m\u001b[0m\u001b[0;34m\u001b[0m\u001b[0m\n\u001b[0m\u001b[1;32m   1061\u001b[0m     \u001b[0;32melse\u001b[0m\u001b[0;34m:\u001b[0m\u001b[0;34m\u001b[0m\u001b[0;34m\u001b[0m\u001b[0m\n\u001b[1;32m   1062\u001b[0m         \u001b[0;32mraise\u001b[0m \u001b[0mValueError\u001b[0m\u001b[0;34m(\u001b[0m\u001b[0;34m\"`y` must be 1 or 2 dimensional.\"\u001b[0m\u001b[0;34m)\u001b[0m\u001b[0;34m\u001b[0m\u001b[0;34m\u001b[0m\u001b[0m\n",
      "\u001b[0;32m/usr/lib/python3/dist-packages/scipy/spatial/distance.py\u001b[0m in \u001b[0;36mpdist\u001b[0;34m(X, metric, out, **kwargs)\u001b[0m\n\u001b[1;32m   2249\u001b[0m         \u001b[0;32mif\u001b[0m \u001b[0mmetric_info\u001b[0m \u001b[0;32mis\u001b[0m \u001b[0;32mnot\u001b[0m \u001b[0;32mNone\u001b[0m\u001b[0;34m:\u001b[0m\u001b[0;34m\u001b[0m\u001b[0;34m\u001b[0m\u001b[0m\n\u001b[1;32m   2250\u001b[0m             \u001b[0mpdist_fn\u001b[0m \u001b[0;34m=\u001b[0m \u001b[0mmetric_info\u001b[0m\u001b[0;34m.\u001b[0m\u001b[0mpdist_func\u001b[0m\u001b[0;34m\u001b[0m\u001b[0;34m\u001b[0m\u001b[0m\n\u001b[0;32m-> 2251\u001b[0;31m             \u001b[0;32mreturn\u001b[0m \u001b[0mpdist_fn\u001b[0m\u001b[0;34m(\u001b[0m\u001b[0mX\u001b[0m\u001b[0;34m,\u001b[0m \u001b[0mout\u001b[0m\u001b[0;34m=\u001b[0m\u001b[0mout\u001b[0m\u001b[0;34m,\u001b[0m \u001b[0;34m**\u001b[0m\u001b[0mkwargs\u001b[0m\u001b[0;34m)\u001b[0m\u001b[0;34m\u001b[0m\u001b[0;34m\u001b[0m\u001b[0m\n\u001b[0m\u001b[1;32m   2252\u001b[0m         \u001b[0;32melif\u001b[0m \u001b[0mmstr\u001b[0m\u001b[0;34m.\u001b[0m\u001b[0mstartswith\u001b[0m\u001b[0;34m(\u001b[0m\u001b[0;34m\"test_\"\u001b[0m\u001b[0;34m)\u001b[0m\u001b[0;34m:\u001b[0m\u001b[0;34m\u001b[0m\u001b[0;34m\u001b[0m\u001b[0m\n\u001b[1;32m   2253\u001b[0m             \u001b[0mmetric_info\u001b[0m \u001b[0;34m=\u001b[0m \u001b[0m_TEST_METRICS\u001b[0m\u001b[0;34m.\u001b[0m\u001b[0mget\u001b[0m\u001b[0;34m(\u001b[0m\u001b[0mmstr\u001b[0m\u001b[0;34m,\u001b[0m \u001b[0;32mNone\u001b[0m\u001b[0;34m)\u001b[0m\u001b[0;34m\u001b[0m\u001b[0;34m\u001b[0m\u001b[0m\n",
      "\u001b[0;32m/usr/lib/python3/dist-packages/scipy/spatial/distance.py\u001b[0m in \u001b[0;36m__call__\u001b[0;34m(self, X, out, **kwargs)\u001b[0m\n\u001b[1;32m   1725\u001b[0m         \u001b[0;31m# get pdist wrapper\u001b[0m\u001b[0;34m\u001b[0m\u001b[0;34m\u001b[0m\u001b[0m\n\u001b[1;32m   1726\u001b[0m         \u001b[0mpdist_fn\u001b[0m \u001b[0;34m=\u001b[0m \u001b[0mgetattr\u001b[0m\u001b[0;34m(\u001b[0m\u001b[0m_distance_wrap\u001b[0m\u001b[0;34m,\u001b[0m \u001b[0;34mf'pdist_{metric_name}_{typ}_wrap'\u001b[0m\u001b[0;34m)\u001b[0m\u001b[0;34m\u001b[0m\u001b[0;34m\u001b[0m\u001b[0m\n\u001b[0;32m-> 1727\u001b[0;31m         \u001b[0mpdist_fn\u001b[0m\u001b[0;34m(\u001b[0m\u001b[0mX\u001b[0m\u001b[0;34m,\u001b[0m \u001b[0mdm\u001b[0m\u001b[0;34m,\u001b[0m \u001b[0;34m**\u001b[0m\u001b[0mkwargs\u001b[0m\u001b[0;34m)\u001b[0m\u001b[0;34m\u001b[0m\u001b[0;34m\u001b[0m\u001b[0m\n\u001b[0m\u001b[1;32m   1728\u001b[0m         \u001b[0;32mreturn\u001b[0m \u001b[0mdm\u001b[0m\u001b[0;34m\u001b[0m\u001b[0;34m\u001b[0m\u001b[0m\n\u001b[1;32m   1729\u001b[0m \u001b[0;34m\u001b[0m\u001b[0m\n",
      "\u001b[0;31mKeyboardInterrupt\u001b[0m: "
     ]
    }
   ],
   "source": [
    "# Agglomerative (hierarchical) clustering\n",
    "def compute_purity_balance_data_agglomerative(data, shuffle_data=True):\n",
    "    word_type_counts = data.word_type.value_counts()\n",
    "    abstract = data[data.word_type == 'abstract']\n",
    "    if shuffle_data is True:\n",
    "        concrete = data[data.word_type == 'concrete'].sample(frac=1)\n",
    "        concrete = concrete[:word_type_counts['abstract']]\n",
    "    else:\n",
    "        concrete = data[data.word_type == 'concrete'][:word_type_counts['abstract']]\n",
    "    balanced_data = pd.concat([abstract, concrete])\n",
    "    emb_matrix = np.array(balanced_data.iloc[:,:512])\n",
    "    true_labels = balanced_data.word_type.tolist()\n",
    "    agg = AgglomerativeClustering(n_clusters=None,\n",
    "                                  metric='cosine',\n",
    "                                  linkage='average',\n",
    "                                 distance_threshold=0.5).fit(emb_matrix)\n",
    "    y_pred = agg.labels_\n",
    "    print('leaves:', agg.n_leaves_)\n",
    "    purity = purity_score(true_labels, y_pred)\n",
    "    return purity\n",
    "\n",
    "task_purity_agg = {'task':[], \n",
    "                   'purity':[]}\n",
    "for task in tasks:\n",
    "    print('Task:', task.upper())\n",
    "    task_models = df[df.task == task]\n",
    "    model_purity = task_models.groupby(\"model\").apply(lambda x: compute_purity_balance_data_agglomerative(x))\n",
    "    print('mean:', model_purity.mean())\n",
    "    print('std:', model_purity.std())\n",
    "    task_purity_agg['purity'].extend(model_purity.tolist())\n",
    "    task_purity_agg['task'].extend([task]*len(model_purity))"
   ]
  },
  {
   "cell_type": "code",
   "execution_count": null,
   "id": "77b1930e",
   "metadata": {},
   "outputs": [],
   "source": []
  }
 ],
 "metadata": {
  "kernelspec": {
   "display_name": "Python 3 (ipykernel)",
   "language": "python",
   "name": "python3"
  },
  "language_info": {
   "codemirror_mode": {
    "name": "ipython",
    "version": 3
   },
   "file_extension": ".py",
   "mimetype": "text/x-python",
   "name": "python",
   "nbconvert_exporter": "python",
   "pygments_lexer": "ipython3",
   "version": "3.10.6"
  }
 },
 "nbformat": 4,
 "nbformat_minor": 5
}
