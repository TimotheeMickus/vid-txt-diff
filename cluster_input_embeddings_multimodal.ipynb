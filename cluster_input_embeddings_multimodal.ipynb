{
 "cells": [
  {
   "cell_type": "code",
   "execution_count": 1,
   "id": "c4aee6d3",
   "metadata": {},
   "outputs": [],
   "source": [
    "import pandas as pd\n",
    "import numpy as np\n",
    "import plotly.express as px\n",
    "import plotly\n",
    "import matplotlib.pyplot as plt\n",
    "from sklearn.manifold import TSNE\n",
    "from sklearn.decomposition import PCA\n",
    "from sklearn.cluster import KMeans, AffinityPropagation, AgglomerativeClustering\n",
    "from sklearn import metrics\n",
    "from sklearn.metrics.cluster import homogeneity_score\n",
    "from collections import Counter\n",
    "import warnings\n",
    "warnings.filterwarnings('ignore', category=FutureWarning, append=True)"
   ]
  },
  {
   "cell_type": "code",
   "execution_count": 2,
   "id": "3f2a06b4",
   "metadata": {},
   "outputs": [],
   "source": [
    "def visualize_embeddings_tSNE(emb_matrix, word_types):\n",
    "    print(\"Running tSNE on\", emb_matrix.shape, \"-dim data\")\n",
    "    tsne = TSNE(n_components=2, verbose=1, perplexity=30, n_iter=250)\n",
    "    tsne_results = tsne.fit_transform(emb_matrix)\n",
    "    print('t-SNE done!')\n",
    "    df_tsne = {'word_type': word_types}\n",
    "    df_tsne['ax1'] = tsne_results[:, 0]\n",
    "    df_tsne['ax2'] = tsne_results[:, 1]\n",
    "    ### Plot data with Plotly\n",
    "    fig = px.scatter(df_tsne,\n",
    "                     x='ax1',\n",
    "                     y='ax2',\n",
    "                     color='word_type',\n",
    "                     opacity=0.3\n",
    "                     )\n",
    "    fig.update_traces(mode='markers', marker_size=8)\n",
    "    fig.update_layout(coloraxis={\"colorbar\":{\"dtick\":1}})\n",
    "    fig.update_xaxes(visible=False, showticklabels=False)\n",
    "    fig.update_layout(legend=dict(font=dict(size=10)))\n",
    "    fig.show()"
   ]
  },
  {
   "cell_type": "code",
   "execution_count": 3,
   "id": "7e4ac3d9",
   "metadata": {},
   "outputs": [],
   "source": [
    "def visualize_embeddings_PCA(emb_matrix, word_types):\n",
    "    print(\"Running PCA on\", emb_matrix.shape, \"-dim matrix\")\n",
    "    pca = PCA(n_components=2)\n",
    "    pca_result = pca.fit_transform(emb_matrix)\n",
    "    df_pca = {'word_type': word_types}\n",
    "    df_pca['PC1'] = pca_result[:, 0]\n",
    "    df_pca['PC2'] = pca_result[:, 1]\n",
    "    ### Plot data with Plotly\n",
    "    fig = px.scatter(df_pca,\n",
    "                     x='PC1',\n",
    "                     y='PC2',\n",
    "                     color='word_type',\n",
    "                     opacity=0.3\n",
    "                     )\n",
    "    fig.update_traces(mode='markers', marker_size=8)\n",
    "    fig.update_layout(coloraxis={\"colorbar\":{\"dtick\":1}})\n",
    "    fig.update_xaxes(visible=False, showticklabels=False)\n",
    "    fig.show()"
   ]
  },
  {
   "cell_type": "code",
   "execution_count": 4,
   "id": "d02caf2c",
   "metadata": {},
   "outputs": [],
   "source": [
    "def purity_score(y_true, y_pred):\n",
    "    # compute contingency matrix (also called confusion matrix)\n",
    "    contingency_matrix = metrics.cluster.contingency_matrix(y_true, y_pred)\n",
    "    # return purity\n",
    "    return np.sum(np.amax(contingency_matrix, axis=0)) / np.sum(contingency_matrix) "
   ]
  },
  {
   "cell_type": "code",
   "execution_count": 5,
   "id": "ebd396c1",
   "metadata": {},
   "outputs": [
    {
     "data": {
      "text/plain": [
       "task\n",
       "P      80000\n",
       "PC     80000\n",
       "PCT    80000\n",
       "PT     80000\n",
       "Name: count, dtype: int64"
      ]
     },
     "execution_count": 5,
     "metadata": {},
     "output_type": "execute_result"
    }
   ],
   "source": [
    "tasks = ['P', 'PC', 'PCT', 'PT']\n",
    "\n",
    "df = pd.read_csv(\"concreteness_norms_input_embs_multimodal.csv\")\n",
    "\n",
    "df[\"task\"] = [m.split(\"/\")[0] for m in df.model.tolist()]\n",
    "df[\"task\"].replace(to_replace=\"paraphrase\", value=\"P\", inplace=True)\n",
    "df[\"task\"].replace(to_replace=\"paraphrase-captioning\", value=\"PC\", inplace=True)\n",
    "df[\"task\"].replace(to_replace=\"paraphrase-captioning-translation\", value=\"PCT\", inplace=True)\n",
    "df[\"task\"].replace(to_replace=\"paraphrase-translation\", value=\"PT\", inplace=True)\n",
    "df.task.value_counts()"
   ]
  },
  {
   "cell_type": "code",
   "execution_count": null,
   "id": "acc175d5",
   "metadata": {
    "scrolled": false
   },
   "outputs": [
    {
     "name": "stdout",
     "output_type": "stream",
     "text": [
      "Task: P\n",
      "mean: 0.7668375000000001\n",
      "std: 0.03304705027761604\n",
      "Task: PC\n"
     ]
    }
   ],
   "source": [
    "def compute_purity(data):\n",
    "    emb_matrix = np.array(data.iloc[:,:512])\n",
    "    true_labels = data.word_type.tolist()\n",
    "    kmeans = KMeans(n_clusters=2).fit(emb_matrix)\n",
    "    y_pred = kmeans.labels_\n",
    "    purity = purity_score(true_labels, y_pred)\n",
    "    # print('purity:', purity)\n",
    "    return purity\n",
    "\n",
    "def compute_purity_balance_data(data, shuffle_data=True):\n",
    "    word_type_counts = data.word_type.value_counts()\n",
    "    abstract = data[data.word_type == 'abstract']\n",
    "    if shuffle_data is True:\n",
    "        concrete = data[data.word_type == 'concrete'].sample(frac=1)\n",
    "        concrete = concrete[:word_type_counts['abstract']]\n",
    "    else:\n",
    "        concrete = data[data.word_type == 'concrete'][:word_type_counts['abstract']]\n",
    "    balanced_data = pd.concat([abstract, concrete])\n",
    "    emb_matrix = np.array(balanced_data.iloc[:,:512])\n",
    "    true_labels = balanced_data.word_type.tolist()\n",
    "    kmeans = KMeans(n_clusters=2).fit(emb_matrix)\n",
    "    y_pred = kmeans.labels_\n",
    "    purity = purity_score(true_labels, y_pred)\n",
    "    # print('purity:', purity)\n",
    "    return purity\n",
    "\n",
    "task_purity = {'task':[], \n",
    "               'purity':[]}\n",
    "for task in tasks:\n",
    "    print('Task:', task.upper())\n",
    "    task_models = df[df.task == task]\n",
    "    model_purity = task_models.groupby(\"model\").apply(lambda x: compute_purity_balance_data(x))\n",
    "    print('mean:', model_purity.mean())\n",
    "    print('std:', model_purity.std())\n",
    "    task_purity['purity'].extend(model_purity.tolist())\n",
    "    task_purity['task'].extend([task]*len(model_purity))"
   ]
  },
  {
   "cell_type": "code",
   "execution_count": 12,
   "id": "5f851143",
   "metadata": {},
   "outputs": [
    {
     "data": {
      "text/plain": [
       "<AxesSubplot:xlabel='task', ylabel='purity'>"
      ]
     },
     "execution_count": 12,
     "metadata": {},
     "output_type": "execute_result"
    },
    {
     "data": {
      "image/png": "[encoded data removed]",
      "text/plain": [
       "<Figure size 432x288 with 1 Axes>"
      ]
     },
     "metadata": {
      "needs_background": "light"
     },
     "output_type": "display_data"
    }
   ],
   "source": [
    "import seaborn as sns\n",
    "task_purity = pd.DataFrame.from_dict(task_purity)\n",
    "sns.boxplot(data=task_purity, x=\"task\", y=\"purity\")"
   ]
  },
  {
   "cell_type": "code",
   "execution_count": 13,
   "id": "807c860e",
   "metadata": {},
   "outputs": [
    {
     "name": "stdout",
     "output_type": "stream",
     "text": [
      "P vs PC: KruskalResult(statistic=0.003913046026859045, pvalue=0.950121385913367)\n",
      "P vs PCT: KruskalResult(statistic=0.800899042349974, pvalue=0.3708247065189253)\n",
      "P vs PT: KruskalResult(statistic=0.8623969872809084, pvalue=0.3530687800080681)\n",
      "PC vs PT: KruskalResult(statistic=1.0405167159000308, pvalue=0.30770132791656674)\n",
      "PC vs PCT: KruskalResult(statistic=1.0405167159000308, pvalue=0.30770132791656674)\n",
      "PCT vs PT: KruskalResult(statistic=0.028359472987084522, pvalue=0.8662664756925953)\n"
     ]
    }
   ],
   "source": [
    "from scipy.stats import kruskal\n",
    "P_purity = task_purity[task_purity.task == 'P'].purity.to_list()\n",
    "PC_purity = task_purity[task_purity.task == 'PC'].purity.to_list()\n",
    "PCT_purity = task_purity[task_purity.task == 'PCT'].purity.to_list()\n",
    "PT_purity = task_purity[task_purity.task == 'PT'].purity.to_list()\n",
    "print(\"P vs PC:\", kruskal(P_purity, PC_purity))\n",
    "print(\"P vs PCT:\", kruskal(P_purity, PCT_purity))\n",
    "print(\"P vs PT:\", kruskal(P_purity, PT_purity))\n",
    "print(\"PC vs PT:\", kruskal(PC_purity, PCT_purity))\n",
    "print(\"PC vs PCT:\", kruskal(PC_purity, PCT_purity))\n",
    "print(\"PCT vs PT:\", kruskal(PCT_purity, PT_purity))"
   ]
  },
  {
   "cell_type": "code",
   "execution_count": 14,
   "id": "b126260b",
   "metadata": {},
   "outputs": [
    {
     "name": "stdout",
     "output_type": "stream",
     "text": [
      "Task: P\n",
      "mean: 0.025118189804249513\n",
      "std: 0.004429409367068915\n",
      "Task: PC\n",
      "mean: 0.02648950538524757\n",
      "std: 0.0036635414599303687\n",
      "Task: PCT\n",
      "mean: 0.02478494553597874\n",
      "std: 0.004930167935975842\n",
      "Task: PT\n",
      "mean: 0.02654065351162014\n",
      "std: 0.004266023370106443\n"
     ]
    }
   ],
   "source": [
    "def compute_silhouette_balance_data(data, shuffle_data=True):\n",
    "    word_type_counts = data.word_type.value_counts()\n",
    "    abstract = data[data.word_type == 'abstract']\n",
    "    if shuffle_data is True:\n",
    "        concrete = data[data.word_type == 'concrete'].sample(word_type_counts['abstract'])\n",
    "    else:\n",
    "        concrete = data[data.word_type == 'concrete'][:word_type_counts['abstract']]\n",
    "    balanced_data = pd.concat([abstract, concrete])\n",
    "    emb_matrix = np.array(balanced_data.iloc[:,:512])\n",
    "    true_labels = balanced_data.word_type.tolist()\n",
    "    return metrics.silhouette_score(emb_matrix, true_labels)\n",
    "\n",
    "task_sil = {'task':[], \n",
    "               'sil':[]}\n",
    "for task in tasks:\n",
    "    print('Task:', task.upper())\n",
    "    task_models = df[df.task == task]\n",
    "    model_sil = task_models.groupby(\"model\").apply(lambda x: compute_silhouette_balance_data(x))\n",
    "    print('mean:', model_sil.mean())\n",
    "    print('std:', model_sil.std())\n",
    "    task_sil['sil'].extend(model_sil.tolist())\n",
    "    task_sil['task'].extend([task]*len(model_sil))"
   ]
  },
  {
   "cell_type": "code",
   "execution_count": 15,
   "id": "3ecfd9cf",
   "metadata": {},
   "outputs": [
    {
     "name": "stdout",
     "output_type": "stream",
     "text": [
      "P vs PC: KruskalResult(statistic=2.490370370370357, pvalue=0.11454476620511844)\n",
      "P vs PCT: KruskalResult(statistic=0.01120370370369983, pvalue=0.9157033097364263)\n",
      "P vs PT: KruskalResult(statistic=2.933703703703742, pvalue=0.08674827300826901)\n",
      "PC vs PCT: KruskalResult(statistic=1.3781481481481705, pvalue=0.24041683705469835)\n",
      "PC vs PT: KruskalResult(statistic=0.10083333333335531, pvalue=0.7508318840890909)\n",
      "PCT vs PT: KruskalResult(statistic=2.167500000000018, pvalue=0.14095521914436548)\n"
     ]
    }
   ],
   "source": [
    "from scipy.stats import kruskal\n",
    "task_sil = pd.DataFrame.from_dict(task_sil)\n",
    "P_sil = task_sil[task_sil.task == 'P'].sil.to_list()\n",
    "PC_sil = task_sil[task_sil.task == 'PC'].sil.to_list()\n",
    "PCT_sil = task_sil[task_sil.task == 'PCT'].sil.to_list()\n",
    "PT_sil = task_sil[task_sil.task == 'PT'].sil.to_list()\n",
    "print(\"P vs PC:\", kruskal(P_sil, PC_sil))\n",
    "print(\"P vs PCT:\", kruskal(P_sil, PCT_sil))\n",
    "print(\"P vs PT:\", kruskal(P_sil, PT_sil))\n",
    "print(\"PC vs PCT:\", kruskal(PC_sil, PCT_sil))\n",
    "print(\"PC vs PT:\", kruskal(PC_sil, PT_sil))\n",
    "print(\"PCT vs PT:\", kruskal(PCT_sil, PT_sil))"
   ]
  },
  {
   "cell_type": "code",
   "execution_count": 17,
   "id": "e31ca26a",
   "metadata": {},
   "outputs": [
    {
     "name": "stdout",
     "output_type": "stream",
     "text": [
      "Task: P\n"
     ]
    },
    {
     "name": "stderr",
     "output_type": "stream",
     "text": [
      "/home/zosa/.local/lib/python3.10/site-packages/sklearn/cluster/_affinity_propagation.py:143: ConvergenceWarning: Affinity propagation did not converge, this model may return degenerate cluster centers and labels.\n",
      "  warnings.warn(\n"
     ]
    },
    {
     "name": "stdout",
     "output_type": "stream",
     "text": [
      "mean: 0.7591125\n",
      "std: 0.022695726328755023\n",
      "Task: PC\n"
     ]
    },
    {
     "name": "stderr",
     "output_type": "stream",
     "text": [
      "/home/zosa/.local/lib/python3.10/site-packages/sklearn/cluster/_affinity_propagation.py:143: ConvergenceWarning: Affinity propagation did not converge, this model may return degenerate cluster centers and labels.\n",
      "  warnings.warn(\n",
      "/home/zosa/.local/lib/python3.10/site-packages/sklearn/cluster/_affinity_propagation.py:143: ConvergenceWarning: Affinity propagation did not converge, this model may return degenerate cluster centers and labels.\n",
      "  warnings.warn(\n",
      "/home/zosa/.local/lib/python3.10/site-packages/sklearn/cluster/_affinity_propagation.py:143: ConvergenceWarning: Affinity propagation did not converge, this model may return degenerate cluster centers and labels.\n",
      "  warnings.warn(\n"
     ]
    },
    {
     "name": "stdout",
     "output_type": "stream",
     "text": [
      "mean: 0.7618375000000001\n",
      "std: 0.018094972917133485\n",
      "Task: PCT\n"
     ]
    },
    {
     "name": "stderr",
     "output_type": "stream",
     "text": [
      "/home/zosa/.local/lib/python3.10/site-packages/sklearn/cluster/_affinity_propagation.py:143: ConvergenceWarning: Affinity propagation did not converge, this model may return degenerate cluster centers and labels.\n",
      "  warnings.warn(\n",
      "/home/zosa/.local/lib/python3.10/site-packages/sklearn/cluster/_affinity_propagation.py:143: ConvergenceWarning: Affinity propagation did not converge, this model may return degenerate cluster centers and labels.\n",
      "  warnings.warn(\n",
      "/home/zosa/.local/lib/python3.10/site-packages/sklearn/cluster/_affinity_propagation.py:143: ConvergenceWarning: Affinity propagation did not converge, this model may return degenerate cluster centers and labels.\n",
      "  warnings.warn(\n",
      "/home/zosa/.local/lib/python3.10/site-packages/sklearn/cluster/_affinity_propagation.py:143: ConvergenceWarning: Affinity propagation did not converge, this model may return degenerate cluster centers and labels.\n",
      "  warnings.warn(\n",
      "/home/zosa/.local/lib/python3.10/site-packages/sklearn/cluster/_affinity_propagation.py:143: ConvergenceWarning: Affinity propagation did not converge, this model may return degenerate cluster centers and labels.\n",
      "  warnings.warn(\n",
      "/home/zosa/.local/lib/python3.10/site-packages/sklearn/cluster/_affinity_propagation.py:143: ConvergenceWarning: Affinity propagation did not converge, this model may return degenerate cluster centers and labels.\n",
      "  warnings.warn(\n",
      "/home/zosa/.local/lib/python3.10/site-packages/sklearn/cluster/_affinity_propagation.py:143: ConvergenceWarning: Affinity propagation did not converge, this model may return degenerate cluster centers and labels.\n",
      "  warnings.warn(\n",
      "/home/zosa/.local/lib/python3.10/site-packages/sklearn/cluster/_affinity_propagation.py:143: ConvergenceWarning: Affinity propagation did not converge, this model may return degenerate cluster centers and labels.\n",
      "  warnings.warn(\n"
     ]
    },
    {
     "name": "stdout",
     "output_type": "stream",
     "text": [
      "mean: 0.7596375\n",
      "std: 0.01703088728736327\n",
      "Task: PT\n"
     ]
    },
    {
     "name": "stderr",
     "output_type": "stream",
     "text": [
      "/home/zosa/.local/lib/python3.10/site-packages/sklearn/cluster/_affinity_propagation.py:143: ConvergenceWarning: Affinity propagation did not converge, this model may return degenerate cluster centers and labels.\n",
      "  warnings.warn(\n",
      "/home/zosa/.local/lib/python3.10/site-packages/sklearn/cluster/_affinity_propagation.py:143: ConvergenceWarning: Affinity propagation did not converge, this model may return degenerate cluster centers and labels.\n",
      "  warnings.warn(\n",
      "/home/zosa/.local/lib/python3.10/site-packages/sklearn/cluster/_affinity_propagation.py:143: ConvergenceWarning: Affinity propagation did not converge, this model may return degenerate cluster centers and labels.\n",
      "  warnings.warn(\n",
      "/home/zosa/.local/lib/python3.10/site-packages/sklearn/cluster/_affinity_propagation.py:143: ConvergenceWarning: Affinity propagation did not converge, this model may return degenerate cluster centers and labels.\n",
      "  warnings.warn(\n",
      "/home/zosa/.local/lib/python3.10/site-packages/sklearn/cluster/_affinity_propagation.py:143: ConvergenceWarning: Affinity propagation did not converge, this model may return degenerate cluster centers and labels.\n",
      "  warnings.warn(\n"
     ]
    },
    {
     "name": "stdout",
     "output_type": "stream",
     "text": [
      "mean: 0.7655624999999999\n",
      "std: 0.017497321223547333\n"
     ]
    },
    {
     "name": "stderr",
     "output_type": "stream",
     "text": [
      "/home/zosa/.local/lib/python3.10/site-packages/sklearn/cluster/_affinity_propagation.py:143: ConvergenceWarning: Affinity propagation did not converge, this model may return degenerate cluster centers and labels.\n",
      "  warnings.warn(\n"
     ]
    }
   ],
   "source": [
    "# Affinity propagation clustering\n",
    "def compute_purity_balance_data_aff_prop(data, shuffle_data=True):\n",
    "    word_type_counts = data.word_type.value_counts()\n",
    "    abstract = data[data.word_type == 'abstract']\n",
    "    if shuffle_data is True:\n",
    "        concrete = data[data.word_type == 'concrete'].sample(frac=1)\n",
    "        concrete = concrete[:word_type_counts['abstract']]\n",
    "    else:\n",
    "        concrete = data[data.word_type == 'concrete'][:word_type_counts['abstract']]\n",
    "    balanced_data = pd.concat([abstract, concrete])\n",
    "    emb_matrix = np.array(balanced_data.iloc[:,:512])\n",
    "    true_labels = balanced_data.word_type.tolist()\n",
    "    aff_prop = AffinityPropagation().fit(emb_matrix)\n",
    "    y_pred = aff_prop.labels_\n",
    "    #print('emb_matrix:', emb_matrix.shape)\n",
    "    #print('n_clusters:', len(Counter(y_pred)))\n",
    "    purity = purity_score(true_labels, y_pred)\n",
    "    return purity\n",
    "\n",
    "task_purity_aff_prop = {'task':[], \n",
    "                        'purity':[]}\n",
    "for task in tasks:\n",
    "    print('Task:', task.upper())\n",
    "    task_models = df[df.task == task]\n",
    "    model_purity = task_models.groupby(\"model\").apply(lambda x: compute_purity_balance_data_aff_prop(x))\n",
    "    print('mean:', model_purity.mean())\n",
    "    print('std:', model_purity.std())\n",
    "    task_purity_aff_prop['purity'].extend(model_purity.tolist())\n",
    "    task_purity_aff_prop['task'].extend([task]*len(model_purity))"
   ]
  },
  {
   "cell_type": "code",
   "execution_count": 18,
   "id": "34585ba5",
   "metadata": {},
   "outputs": [
    {
     "name": "stdout",
     "output_type": "stream",
     "text": [
      "P vs PC: KruskalResult(statistic=0.26514123730681477, pvalue=0.6066098534491037)\n",
      "P vs PCT: KruskalResult(statistic=0.00037060927699448864, pvalue=0.9846407015381468)\n",
      "P vs PT: KruskalResult(statistic=2.1965695527287443, pvalue=0.1383182534140558)\n",
      "PC vs PCT: KruskalResult(statistic=0.5005486031291638, pvalue=0.4792591698804487)\n",
      "PC vs PT: KruskalResult(statistic=0.7421247214729868, pvalue=0.388981103041697)\n",
      "PCT vs PT: KruskalResult(statistic=4.262006648374875, pvalue=0.038973857568944545)\n"
     ]
    }
   ],
   "source": [
    "from scipy.stats import kruskal\n",
    "task_purity_aff_prop = pd.DataFrame.from_dict(task_purity_aff_prop)\n",
    "P_purity = task_purity_aff_prop[task_purity_aff_prop.task == 'P'].purity.to_list()\n",
    "PC_purity = task_purity_aff_prop[task_purity_aff_prop.task == 'PC'].purity.to_list()\n",
    "PCT_purity = task_purity_aff_prop[task_purity_aff_prop.task == 'PCT'].purity.to_list()\n",
    "PT_purity = task_purity_aff_prop[task_purity_aff_prop.task == 'PT'].purity.to_list()\n",
    "print(\"P vs PC:\", kruskal(P_purity, PC_purity))\n",
    "print(\"P vs PCT:\", kruskal(P_purity, PCT_purity))\n",
    "print(\"P vs PT:\", kruskal(P_purity, PT_purity))\n",
    "print(\"PC vs PCT:\", kruskal(PC_purity, PCT_purity))\n",
    "print(\"PC vs PT:\", kruskal(PC_purity, PT_purity))\n",
    "print(\"PCT vs PT:\", kruskal(PCT_purity, PT_purity))"
   ]
  },
  {
   "cell_type": "code",
   "execution_count": 6,
   "id": "f623cead",
   "metadata": {},
   "outputs": [
    {
     "name": "stdout",
     "output_type": "stream",
     "text": [
      "Task: P\n",
      "mean: 0.9999125000000001\n",
      "std: 0.0002503203076265549\n",
      "Task: PC\n",
      "mean: 0.999925\n",
      "std: 0.00018081014266987477\n",
      "Task: PCT\n",
      "mean: 0.9999125\n",
      "std: 0.00019240382212737516\n",
      "Task: PT\n",
      "mean: 0.9998625000000001\n",
      "std: 0.0003200060095589398\n"
     ]
    }
   ],
   "source": [
    "# Agglomerative (hierarchical) clustering\n",
    "def compute_purity_balance_data_agglomerative(data, shuffle_data=True):\n",
    "    word_type_counts = data.word_type.value_counts()\n",
    "    abstract = data[data.word_type == 'abstract']\n",
    "    if shuffle_data is True:\n",
    "        concrete = data[data.word_type == 'concrete'].sample(frac=1)\n",
    "        concrete = concrete[:word_type_counts['abstract']]\n",
    "    else:\n",
    "        concrete = data[data.word_type == 'concrete'][:word_type_counts['abstract']]\n",
    "    balanced_data = pd.concat([abstract, concrete])\n",
    "    emb_matrix = np.array(balanced_data.iloc[:,:512])\n",
    "    true_labels = balanced_data.word_type.tolist()\n",
    "    agg = AgglomerativeClustering(n_clusters=None,\n",
    "                                  metric='cosine',\n",
    "                                  linkage='average',\n",
    "                                 distance_threshold=0.5).fit(emb_matrix)\n",
    "    y_pred = agg.labels_\n",
    "    #print('n_clusters:', len(Counter(y_pred)))\n",
    "    purity = purity_score(true_labels, y_pred)\n",
    "    return purity\n",
    "\n",
    "task_purity_agg = {'task':[], \n",
    "                   'purity':[]}\n",
    "for task in tasks:\n",
    "    print('Task:', task.upper())\n",
    "    task_models = df[df.task == task]\n",
    "    model_purity = task_models.groupby(\"model\").apply(lambda x: compute_purity_balance_data_agglomerative(x))\n",
    "    print('mean:', model_purity.mean())\n",
    "    print('std:', model_purity.std())\n",
    "    task_purity_agg['purity'].extend(model_purity.tolist())\n",
    "    task_purity_agg['task'].extend([task]*len(model_purity))"
   ]
  },
  {
   "cell_type": "code",
   "execution_count": 8,
   "id": "55e90038",
   "metadata": {},
   "outputs": [
    {
     "name": "stdout",
     "output_type": "stream",
     "text": [
      "P vs PC: KruskalResult(statistic=0.05083554942704364, pvalue=0.8216156818385859)\n",
      "P vs PCT: KruskalResult(statistic=0.2626098901099474, pvalue=0.6083327684108404)\n",
      "P vs PT: KruskalResult(statistic=0.7575712656785131, pvalue=0.384089659160188)\n",
      "PC vs PCT: KruskalResult(statistic=0.0907003444316903, pvalue=0.7632886936791208)\n",
      "PC vs PT: KruskalResult(statistic=0.45022489159412504, pvalue=0.5022281762806404)\n",
      "PCT vs PT: KruskalResult(statistic=0.1469308092663036, pvalue=0.7014858124867243)\n"
     ]
    }
   ],
   "source": [
    "from scipy.stats import kruskal\n",
    "task_purity_agg = pd.DataFrame.from_dict(task_purity_agg)\n",
    "P_purity = task_purity_agg[task_purity_agg.task == 'P'].purity.to_list()\n",
    "PC_purity = task_purity_agg[task_purity_agg.task == 'PC'].purity.to_list()\n",
    "PCT_purity = task_purity_agg[task_purity_agg.task == 'PCT'].purity.to_list()\n",
    "PT_purity = task_purity_agg[task_purity_agg.task == 'PT'].purity.to_list()\n",
    "print(\"P vs PC:\", kruskal(P_purity, PC_purity))\n",
    "print(\"P vs PCT:\", kruskal(P_purity, PCT_purity))\n",
    "print(\"P vs PT:\", kruskal(P_purity, PT_purity))\n",
    "print(\"PC vs PCT:\", kruskal(PC_purity, PCT_purity))\n",
    "print(\"PC vs PT:\", kruskal(PC_purity, PT_purity))\n",
    "print(\"PCT vs PT:\", kruskal(PCT_purity, PT_purity))"
   ]
  },
  {
   "cell_type": "code",
   "execution_count": null,
   "id": "46ec8eb0",
   "metadata": {},
   "outputs": [],
   "source": []
  }
 ],
 "metadata": {
  "kernelspec": {
   "display_name": "Python 3 (ipykernel)",
   "language": "python",
   "name": "python3"
  },
  "language_info": {
   "codemirror_mode": {
    "name": "ipython",
    "version": 3
   },
   "file_extension": ".py",
   "mimetype": "text/x-python",
   "name": "python",
   "nbconvert_exporter": "python",
   "pygments_lexer": "ipython3",
   "version": "3.10.6"
  }
 },
 "nbformat": 4,
 "nbformat_minor": 5
}
