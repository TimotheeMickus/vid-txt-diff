{
 "cells": [
  {
   "cell_type": "code",
   "execution_count": 1,
   "id": "c4aee6d3",
   "metadata": {},
   "outputs": [],
   "source": [
    "import pandas as pd\n",
    "import numpy as np\n",
    "import plotly.express as px\n",
    "import plotly\n",
    "import matplotlib.pyplot as plt\n",
    "from sklearn.manifold import TSNE\n",
    "from sklearn.decomposition import PCA\n",
    "from sklearn.cluster import KMeans, AffinityPropagation, AgglomerativeClustering\n",
    "from sklearn import metrics\n",
    "from sklearn.metrics.cluster import homogeneity_score\n",
    "from collections import Counter\n",
    "import warnings\n",
    "warnings.filterwarnings('ignore', category=FutureWarning, append=True)"
   ]
  },
  {
   "cell_type": "code",
   "execution_count": 2,
   "id": "3f2a06b4",
   "metadata": {},
   "outputs": [],
   "source": [
    "def visualize_embeddings_tSNE(emb_matrix, word_types):\n",
    "    print(\"Running tSNE on\", emb_matrix.shape, \"-dim data\")\n",
    "    tsne = TSNE(n_components=2, verbose=1, perplexity=30, n_iter=250)\n",
    "    tsne_results = tsne.fit_transform(emb_matrix)\n",
    "    print('t-SNE done!')\n",
    "    df_tsne = {'word_type': word_types}\n",
    "    df_tsne['ax1'] = tsne_results[:, 0]\n",
    "    df_tsne['ax2'] = tsne_results[:, 1]\n",
    "    ### Plot data with Plotly\n",
    "    fig = px.scatter(df_tsne,\n",
    "                     x='ax1',\n",
    "                     y='ax2',\n",
    "                     color='word_type',\n",
    "                     opacity=0.3\n",
    "                     )\n",
    "    fig.update_traces(mode='markers', marker_size=8)\n",
    "    fig.update_layout(coloraxis={\"colorbar\":{\"dtick\":1}})\n",
    "    fig.update_xaxes(visible=False, showticklabels=False)\n",
    "    fig.update_yaxes(visible=False, showticklabels=False)\n",
    "    fig.update_layout(legend=dict(font=dict(size=10)))\n",
    "    fig.show()\n",
    "    #save_filename = \"figures/ctm_topic_space-tsne-train3000-no_bg.html\"\n",
    "    #fig.write_html(save_filename)\n"
   ]
  },
  {
   "cell_type": "code",
   "execution_count": 3,
   "id": "7e4ac3d9",
   "metadata": {},
   "outputs": [],
   "source": [
    "def visualize_embeddings_PCA(emb_matrix, word_types):\n",
    "    print(\"Running PCA on\", emb_matrix.shape, \"-dim matrix\")\n",
    "    pca = PCA(n_components=2)\n",
    "    pca_result = pca.fit_transform(emb_matrix)\n",
    "    df_pca = {'word_type': word_types}\n",
    "    df_pca['PC1'] = pca_result[:, 0]\n",
    "    df_pca['PC2'] = pca_result[:, 1]\n",
    "    ### Plot data with Plotly\n",
    "    fig = px.scatter(df_pca,\n",
    "                     x='PC1',\n",
    "                     y='PC2',\n",
    "                     color='word_type',\n",
    "                     opacity=0.3\n",
    "                     )\n",
    "    fig.update_traces(mode='markers', marker_size=8)\n",
    "    fig.update_layout(coloraxis={\"colorbar\":{\"dtick\":1}})\n",
    "    fig.update_xaxes(visible=False, showticklabels=False)\n",
    "    fig.update_yaxes(visible=False, showticklabels=False)\n",
    "    # fig.update_layout(paper_bgcolor=\"rgba(0,0,0,0)\", plot_bgcolor=\"rgba(0,0,0,0)\")\n",
    "    fig.show()"
   ]
  },
  {
   "cell_type": "code",
   "execution_count": 4,
   "id": "d02caf2c",
   "metadata": {},
   "outputs": [],
   "source": [
    "def purity_score(y_true, y_pred):\n",
    "    # compute contingency matrix (also called confusion matrix)\n",
    "    contingency_matrix = metrics.cluster.contingency_matrix(y_true, y_pred)\n",
    "    # return purity\n",
    "    return np.sum(np.amax(contingency_matrix, axis=0)) / np.sum(contingency_matrix) "
   ]
  },
  {
   "cell_type": "code",
   "execution_count": 5,
   "id": "ebd396c1",
   "metadata": {},
   "outputs": [
    {
     "data": {
      "text/plain": [
       "task\n",
       "P      96720\n",
       "PC     96720\n",
       "PCT    96720\n",
       "PT     96720\n",
       "Name: count, dtype: int64"
      ]
     },
     "execution_count": 5,
     "metadata": {},
     "output_type": "execute_result"
    }
   ],
   "source": [
    "tasks = ['P', 'PC', 'PCT', 'PT']\n",
    "\n",
    "df = pd.read_csv(\"concreteness_norms_last_hidden_state_embs_multimodal.csv\")\n",
    "\n",
    "df[\"task\"] = [m.split(\"/\")[0] for m in df.model.tolist()]\n",
    "df[\"task\"].replace(to_replace=\"paraphrase\", value=\"P\", inplace=True)\n",
    "df[\"task\"].replace(to_replace=\"paraphrase-captioning\", value=\"PC\", inplace=True)\n",
    "df[\"task\"].replace(to_replace=\"paraphrase-captioning-translation\", value=\"PCT\", inplace=True)\n",
    "df[\"task\"].replace(to_replace=\"paraphrase-translation\", value=\"PT\", inplace=True)\n",
    "df.task.value_counts()"
   ]
  },
  {
   "cell_type": "code",
   "execution_count": 6,
   "id": "d783d5ce",
   "metadata": {},
   "outputs": [
    {
     "data": {
      "text/plain": [
       "word_type\n",
       "concrete    65400\n",
       "abstract    31320\n",
       "Name: count, dtype: int64"
      ]
     },
     "execution_count": 6,
     "metadata": {},
     "output_type": "execute_result"
    }
   ],
   "source": [
    "df[df.task == 'P'].word_type.value_counts()"
   ]
  },
  {
   "cell_type": "code",
   "execution_count": 7,
   "id": "acc175d5",
   "metadata": {
    "scrolled": false
   },
   "outputs": [
    {
     "name": "stdout",
     "output_type": "stream",
     "text": [
      "Task: P\n",
      "mean: 0.8222222222222222\n",
      "std: 0.02022480033929912\n",
      "Task: PC\n",
      "mean: 0.8245689655172412\n",
      "std: 0.024556041060134585\n",
      "Task: PCT\n",
      "mean: 0.8319444444444446\n",
      "std: 0.022934266817217618\n",
      "Task: PT\n",
      "mean: 0.8272669220945084\n",
      "std: 0.028819016458718327\n"
     ]
    }
   ],
   "source": [
    "# KMeans\n",
    "\n",
    "def compute_purity(data):\n",
    "    emb_matrix = np.array(data.iloc[:,:512])\n",
    "    true_labels = data.word_type.tolist()\n",
    "    kmeans = KMeans(n_clusters=2).fit(emb_matrix)\n",
    "    y_pred = kmeans.labels_\n",
    "    purity = purity_score(true_labels, y_pred)\n",
    "    # print('purity:', purity)\n",
    "    return purity\n",
    "\n",
    "def compute_purity_balance_data(data, shuffle_data=True):\n",
    "    word_type_counts = data.word_type.value_counts()\n",
    "    abstract = data[data.word_type == 'abstract']\n",
    "    if shuffle_data is True:\n",
    "        concrete = data[data.word_type == 'concrete'].sample(frac=1)\n",
    "        concrete = concrete[:word_type_counts['abstract']]\n",
    "    else:\n",
    "        concrete = data[data.word_type == 'concrete'][:word_type_counts['abstract']]\n",
    "    balanced_data = pd.concat([abstract, concrete])\n",
    "    emb_matrix = np.array(balanced_data.iloc[:,:512])\n",
    "    true_labels = balanced_data.word_type.tolist()\n",
    "    kmeans = KMeans(n_clusters=2).fit(emb_matrix)\n",
    "    y_pred = kmeans.labels_\n",
    "    purity = purity_score(true_labels, y_pred)\n",
    "    # print('purity:', purity)\n",
    "    return purity\n",
    "\n",
    "task_purity = {'task':[], \n",
    "               'purity':[]}\n",
    "for task in tasks:\n",
    "    print('Task:', task.upper())\n",
    "    task_models = df[df.task == task]\n",
    "    model_purity = task_models.groupby(\"model\").apply(lambda x: compute_purity_balance_data(x))\n",
    "    print('mean:', model_purity.mean())\n",
    "    print('std:', model_purity.std())\n",
    "    task_purity['purity'].extend(model_purity.tolist())\n",
    "    task_purity['task'].extend([task]*len(model_purity))"
   ]
  },
  {
   "cell_type": "code",
   "execution_count": 13,
   "id": "5f851143",
   "metadata": {},
   "outputs": [
    {
     "data": {
      "text/plain": [
       "<AxesSubplot:xlabel='task', ylabel='purity'>"
      ]
     },
     "execution_count": 13,
     "metadata": {},
     "output_type": "execute_result"
    },
    {
     "data": {
      "image/png": "[encoded data removed]",
      "text/plain": [
       "<Figure size 432x288 with 1 Axes>"
      ]
     },
     "metadata": {
      "needs_background": "light"
     },
     "output_type": "display_data"
    }
   ],
   "source": [
    "import seaborn as sns\n",
    "task_purity = pd.DataFrame.from_dict(task_purity)\n",
    "sns.boxplot(data=task_purity, x=\"task\", y=\"purity\")"
   ]
  },
  {
   "cell_type": "code",
   "execution_count": 14,
   "id": "807c860e",
   "metadata": {},
   "outputs": [
    {
     "name": "stdout",
     "output_type": "stream",
     "text": [
      "P vs PC: KruskalResult(statistic=0.10707217558504323, pvalue=0.7435023649785497)\n",
      "P vs PCT: KruskalResult(statistic=3.1876286937148532, pvalue=0.07419756925486769)\n",
      "P vs PT: KruskalResult(statistic=0.9921424551859903, pvalue=0.31921930291522976)\n",
      "PC vs PCT: KruskalResult(statistic=2.0570947689420342, pvalue=0.1514987745326073)\n",
      "PC vs PT: KruskalResult(statistic=0.4283339000739055, pvalue=0.5128076125054786)\n",
      "PCT vs PT: KruskalResult(statistic=0.231562903036712, pvalue=0.6303673732611186)\n"
     ]
    }
   ],
   "source": [
    "from scipy.stats import kruskal\n",
    "P_purity = task_purity[task_purity.task == 'P'].purity.to_list()\n",
    "PC_purity = task_purity[task_purity.task == 'PC'].purity.to_list()\n",
    "PCT_purity = task_purity[task_purity.task == 'PCT'].purity.to_list()\n",
    "PT_purity = task_purity[task_purity.task == 'PT'].purity.to_list()\n",
    "print(\"P vs PC:\", kruskal(P_purity, PC_purity))\n",
    "print(\"P vs PCT:\", kruskal(P_purity, PCT_purity))\n",
    "print(\"P vs PT:\", kruskal(P_purity, PT_purity))\n",
    "print(\"PC vs PCT:\", kruskal(PC_purity, PCT_purity))\n",
    "print(\"PC vs PT:\", kruskal(PC_purity, PT_purity))\n",
    "print(\"PCT vs PT:\", kruskal(PCT_purity, PT_purity))"
   ]
  },
  {
   "cell_type": "code",
   "execution_count": 10,
   "id": "e3dfa2a3",
   "metadata": {},
   "outputs": [
    {
     "name": "stdout",
     "output_type": "stream",
     "text": [
      "Task: P\n",
      "mean: 0.05118804520715856\n",
      "std: 0.007769818897053615\n",
      "Task: PC\n",
      "mean: 0.05183455340327488\n",
      "std: 0.006104136577515038\n",
      "Task: PCT\n",
      "mean: 0.055948097229136885\n",
      "std: 0.00710479440293303\n",
      "Task: PT\n",
      "mean: 0.05124026348388774\n",
      "std: 0.008781108931046793\n"
     ]
    }
   ],
   "source": [
    "def compute_silhouette_balance_data(data, shuffle_data=True):\n",
    "    word_type_counts = data.word_type.value_counts()\n",
    "    abstract = data[data.word_type == 'abstract']\n",
    "    if shuffle_data is True:\n",
    "        concrete = data[data.word_type == 'concrete'].sample(word_type_counts['abstract'])\n",
    "    else:\n",
    "        concrete = data[data.word_type == 'concrete'][:word_type_counts['abstract']]\n",
    "    balanced_data = pd.concat([abstract, concrete])\n",
    "    emb_matrix = np.array(balanced_data.iloc[:,:512])\n",
    "    true_labels = balanced_data.word_type.tolist()\n",
    "    return metrics.silhouette_score(emb_matrix, true_labels)\n",
    "\n",
    "task_sil = {'task':[], \n",
    "               'sil':[]}\n",
    "for task in tasks:\n",
    "    print('Task:', task.upper())\n",
    "    task_models = df[df.task == task]\n",
    "    model_sil = task_models.groupby(\"model\").apply(lambda x: compute_silhouette_balance_data(x))\n",
    "    print('mean:', model_sil.mean())\n",
    "    print('std:', model_sil.std())\n",
    "    task_sil['sil'].extend(model_sil.tolist())\n",
    "    task_sil['task'].extend([task]*len(model_sil))"
   ]
  },
  {
   "cell_type": "code",
   "execution_count": 12,
   "id": "81df8afa",
   "metadata": {},
   "outputs": [
    {
     "name": "stdout",
     "output_type": "stream",
     "text": [
      "P vs PC: KruskalResult(statistic=0.25037037037040477, pvalue=0.6168144089718366)\n",
      "P vs PCT: KruskalResult(statistic=8.277870370370351, pvalue=0.0040131170266547705)\n",
      "P vs PT: KruskalResult(statistic=0.03703703703703809, pvalue=0.8473896596867122)\n",
      "PC vs PCT: KruskalResult(statistic=7.104537037037062, pvalue=0.007688908140766365)\n",
      "PC vs PT: KruskalResult(statistic=0.548981481481519, pvalue=0.4587341591017978)\n",
      "PCT vs PT: KruskalResult(statistic=7.5737037037037, pvalue=0.005922595857839187)\n"
     ]
    }
   ],
   "source": [
    "from scipy.stats import kruskal\n",
    "task_sil = pd.DataFrame.from_dict(task_sil)\n",
    "P_sil = task_sil[task_sil.task == 'P'].sil.to_list()\n",
    "PC_sil = task_sil[task_sil.task == 'PC'].sil.to_list()\n",
    "PCT_sil = task_sil[task_sil.task == 'PCT'].sil.to_list()\n",
    "PT_sil = task_sil[task_sil.task == 'PT'].sil.to_list()\n",
    "print(\"P vs PC:\", kruskal(P_sil, PC_sil))\n",
    "print(\"P vs PCT:\", kruskal(P_sil, PCT_sil))\n",
    "print(\"P vs PT:\", kruskal(P_sil, PT_sil))\n",
    "print(\"PC vs PCT:\", kruskal(PC_sil, PCT_sil))\n",
    "print(\"PC vs PT:\", kruskal(PC_sil, PT_sil))\n",
    "print(\"PCT vs PT:\", kruskal(PCT_sil, PT_sil))"
   ]
  },
  {
   "cell_type": "code",
   "execution_count": 15,
   "id": "9c886e12",
   "metadata": {},
   "outputs": [
    {
     "name": "stdout",
     "output_type": "stream",
     "text": [
      "Task: P\n"
     ]
    },
    {
     "name": "stderr",
     "output_type": "stream",
     "text": [
      "/home/zosa/.local/lib/python3.10/site-packages/sklearn/cluster/_affinity_propagation.py:143: ConvergenceWarning: Affinity propagation did not converge, this model may return degenerate cluster centers and labels.\n",
      "  warnings.warn(\n",
      "/home/zosa/.local/lib/python3.10/site-packages/sklearn/cluster/_affinity_propagation.py:143: ConvergenceWarning: Affinity propagation did not converge, this model may return degenerate cluster centers and labels.\n",
      "  warnings.warn(\n",
      "/home/zosa/.local/lib/python3.10/site-packages/sklearn/cluster/_affinity_propagation.py:143: ConvergenceWarning: Affinity propagation did not converge, this model may return degenerate cluster centers and labels.\n",
      "  warnings.warn(\n"
     ]
    },
    {
     "name": "stdout",
     "output_type": "stream",
     "text": [
      "mean: 0.8899425287356323\n",
      "std: 0.006595990405191766\n",
      "Task: PC\n"
     ]
    },
    {
     "name": "stderr",
     "output_type": "stream",
     "text": [
      "/home/zosa/.local/lib/python3.10/site-packages/sklearn/cluster/_affinity_propagation.py:143: ConvergenceWarning: Affinity propagation did not converge, this model may return degenerate cluster centers and labels.\n",
      "  warnings.warn(\n"
     ]
    },
    {
     "name": "stdout",
     "output_type": "stream",
     "text": [
      "mean: 0.8911079182630907\n",
      "std: 0.0070975459007081255\n",
      "Task: PCT\n"
     ]
    },
    {
     "name": "stderr",
     "output_type": "stream",
     "text": [
      "/home/zosa/.local/lib/python3.10/site-packages/sklearn/cluster/_affinity_propagation.py:143: ConvergenceWarning: Affinity propagation did not converge, this model may return degenerate cluster centers and labels.\n",
      "  warnings.warn(\n"
     ]
    },
    {
     "name": "stdout",
     "output_type": "stream",
     "text": [
      "mean: 0.8909642401021711\n",
      "std: 0.007167561350424478\n",
      "Task: PT\n"
     ]
    },
    {
     "name": "stderr",
     "output_type": "stream",
     "text": [
      "/home/zosa/.local/lib/python3.10/site-packages/sklearn/cluster/_affinity_propagation.py:143: ConvergenceWarning: Affinity propagation did not converge, this model may return degenerate cluster centers and labels.\n",
      "  warnings.warn(\n"
     ]
    },
    {
     "name": "stdout",
     "output_type": "stream",
     "text": [
      "mean: 0.8873403575989782\n",
      "std: 0.007429911596267459\n"
     ]
    }
   ],
   "source": [
    "# Affinity propagation clustering\n",
    "def compute_purity_balance_data_aff_prop(data, shuffle_data=True):\n",
    "    word_type_counts = data.word_type.value_counts()\n",
    "    abstract = data[data.word_type == 'abstract']\n",
    "    if shuffle_data is True:\n",
    "        concrete = data[data.word_type == 'concrete'].sample(frac=1)\n",
    "        concrete = concrete[:word_type_counts['abstract']]\n",
    "    else:\n",
    "        concrete = data[data.word_type == 'concrete'][:word_type_counts['abstract']]\n",
    "    balanced_data = pd.concat([abstract, concrete])\n",
    "    emb_matrix = np.array(balanced_data.iloc[:,:512])\n",
    "    true_labels = balanced_data.word_type.tolist()\n",
    "    aff_prop = AffinityPropagation().fit(emb_matrix)\n",
    "    y_pred = aff_prop.labels_\n",
    "    #print('emb_matrix:', emb_matrix.shape)\n",
    "    #print('n_clusters:', len(Counter(y_pred)))\n",
    "    purity = purity_score(true_labels, y_pred)\n",
    "    return purity\n",
    "\n",
    "task_purity_aff_prop = {'task':[], \n",
    "                        'purity':[]}\n",
    "for task in tasks:\n",
    "    print('Task:', task.upper())\n",
    "    task_models = df[df.task == task]\n",
    "    model_purity = task_models.groupby(\"model\").apply(lambda x: compute_purity_balance_data_aff_prop(x))\n",
    "    print('mean:', model_purity.mean())\n",
    "    print('std:', model_purity.std())\n",
    "    task_purity_aff_prop['purity'].extend(model_purity.tolist())\n",
    "    task_purity_aff_prop['task'].extend([task]*len(model_purity))"
   ]
  },
  {
   "cell_type": "code",
   "execution_count": 16,
   "id": "100067e2",
   "metadata": {},
   "outputs": [
    {
     "name": "stdout",
     "output_type": "stream",
     "text": [
      "P vs PC: KruskalResult(statistic=0.528854668232564, pvalue=0.46708877909445345)\n",
      "P vs PCT: KruskalResult(statistic=0.3175337373594828, pvalue=0.5730935616693535)\n",
      "P vs PT: KruskalResult(statistic=4.011709332488272, pvalue=0.04518531842577633)\n",
      "PC vs PCT: KruskalResult(statistic=0.10409748966746357, pvalue=0.746966816845346)\n",
      "PC vs PT: KruskalResult(statistic=5.587127141516109, pvalue=0.018092946741692328)\n",
      "PCT vs PT: KruskalResult(statistic=5.319114177387579, pvalue=0.02109273136104282)\n"
     ]
    }
   ],
   "source": [
    "from scipy.stats import kruskal\n",
    "task_purity_aff_prop = pd.DataFrame.from_dict(task_purity_aff_prop)\n",
    "P_purity = task_purity_aff_prop[task_purity_aff_prop.task == 'P'].purity.to_list()\n",
    "PC_purity = task_purity_aff_prop[task_purity_aff_prop.task == 'PC'].purity.to_list()\n",
    "PCT_purity = task_purity_aff_prop[task_purity_aff_prop.task == 'PCT'].purity.to_list()\n",
    "PT_purity = task_purity_aff_prop[task_purity_aff_prop.task == 'PT'].purity.to_list()\n",
    "print(\"P vs PC:\", kruskal(P_purity, PC_purity))\n",
    "print(\"P vs PCT:\", kruskal(P_purity, PCT_purity))\n",
    "print(\"P vs PT:\", kruskal(P_purity, PT_purity))\n",
    "print(\"PC vs PCT:\", kruskal(PC_purity, PCT_purity))\n",
    "print(\"PC vs PT:\", kruskal(PC_purity, PT_purity))\n",
    "print(\"PCT vs PT:\", kruskal(PCT_purity, PT_purity))"
   ]
  },
  {
   "cell_type": "code",
   "execution_count": 17,
   "id": "9a2b4c4c",
   "metadata": {},
   "outputs": [
    {
     "name": "stdout",
     "output_type": "stream",
     "text": [
      "Task: P\n",
      "mean: 0.9322477650063856\n",
      "std: 0.012556565012527995\n",
      "Task: PC\n",
      "mean: 0.9306673052362708\n",
      "std: 0.01357608936407527\n",
      "Task: PCT\n",
      "mean: 0.9277618135376755\n",
      "std: 0.014827165720076908\n",
      "Task: PT\n",
      "mean: 0.9289750957854406\n",
      "std: 0.013540307094867336\n"
     ]
    }
   ],
   "source": [
    "# Agglomerative (hierarchical) clustering\n",
    "def compute_purity_balance_data_agglomerative(data, shuffle_data=True):\n",
    "    word_type_counts = data.word_type.value_counts()\n",
    "    abstract = data[data.word_type == 'abstract']\n",
    "    if shuffle_data is True:\n",
    "        concrete = data[data.word_type == 'concrete'].sample(frac=1)\n",
    "        concrete = concrete[:word_type_counts['abstract']]\n",
    "    else:\n",
    "        concrete = data[data.word_type == 'concrete'][:word_type_counts['abstract']]\n",
    "    balanced_data = pd.concat([abstract, concrete])\n",
    "    emb_matrix = np.array(balanced_data.iloc[:,:512])\n",
    "    true_labels = balanced_data.word_type.tolist()\n",
    "    agg = AgglomerativeClustering(n_clusters=None,\n",
    "                                  metric='cosine',\n",
    "                                  linkage='average',\n",
    "                                 distance_threshold=0.5).fit(emb_matrix)\n",
    "    y_pred = agg.labels_\n",
    "    #print('n_clusters:', len(Counter(y_pred)))\n",
    "    purity = purity_score(true_labels, y_pred)\n",
    "    return purity\n",
    "\n",
    "task_purity_agg = {'task':[], \n",
    "                   'purity':[]}\n",
    "for task in tasks:\n",
    "    print('Task:', task.upper())\n",
    "    task_models = df[df.task == task]\n",
    "    model_purity = task_models.groupby(\"model\").apply(lambda x: compute_purity_balance_data_agglomerative(x))\n",
    "    print('mean:', model_purity.mean())\n",
    "    print('std:', model_purity.std())\n",
    "    task_purity_agg['purity'].extend(model_purity.tolist())\n",
    "    task_purity_agg['task'].extend([task]*len(model_purity))"
   ]
  },
  {
   "cell_type": "code",
   "execution_count": 18,
   "id": "bb5decb9",
   "metadata": {},
   "outputs": [
    {
     "name": "stdout",
     "output_type": "stream",
     "text": [
      "P vs PC: KruskalResult(statistic=0.31726172315056383, pvalue=0.5732579147007723)\n",
      "P vs PCT: KruskalResult(statistic=1.9890404490691072, pvalue=0.15844124500367154)\n",
      "P vs PT: KruskalResult(statistic=1.4135708000938394, pvalue=0.23446452343773186)\n",
      "PC vs PCT: KruskalResult(statistic=1.0022685418694899, pvalue=0.3167622090626746)\n",
      "PC vs PT: KruskalResult(statistic=0.42844944874504903, pvalue=0.512750762509105)\n",
      "PCT vs PT: KruskalResult(statistic=0.12341868264594963, pvalue=0.7253558292854259)\n"
     ]
    }
   ],
   "source": [
    "from scipy.stats import kruskal\n",
    "task_purity_agg = pd.DataFrame.from_dict(task_purity_agg)\n",
    "P_purity = task_purity_agg[task_purity_agg.task == 'P'].purity.to_list()\n",
    "PC_purity = task_purity_agg[task_purity_agg.task == 'PC'].purity.to_list()\n",
    "PCT_purity = task_purity_agg[task_purity_agg.task == 'PCT'].purity.to_list()\n",
    "PT_purity = task_purity_agg[task_purity_aff_prop.task == 'PT'].purity.to_list()\n",
    "print(\"P vs PC:\", kruskal(P_purity, PC_purity))\n",
    "print(\"P vs PCT:\", kruskal(P_purity, PCT_purity))\n",
    "print(\"P vs PT:\", kruskal(P_purity, PT_purity))\n",
    "print(\"PC vs PCT:\", kruskal(PC_purity, PCT_purity))\n",
    "print(\"PC vs PT:\", kruskal(PC_purity, PT_purity))\n",
    "print(\"PCT vs PT:\", kruskal(PCT_purity, PT_purity))"
   ]
  },
  {
   "cell_type": "code",
   "execution_count": null,
   "id": "cd13a81c",
   "metadata": {},
   "outputs": [],
   "source": []
  }
 ],
 "metadata": {
  "kernelspec": {
   "display_name": "Python 3 (ipykernel)",
   "language": "python",
   "name": "python3"
  },
  "language_info": {
   "codemirror_mode": {
    "name": "ipython",
    "version": 3
   },
   "file_extension": ".py",
   "mimetype": "text/x-python",
   "name": "python",
   "nbconvert_exporter": "python",
   "pygments_lexer": "ipython3",
   "version": "3.10.6"
  }
 },
 "nbformat": 4,
 "nbformat_minor": 5
}
